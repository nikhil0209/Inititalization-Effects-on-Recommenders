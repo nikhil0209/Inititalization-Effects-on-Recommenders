{
  "nbformat": 4,
  "nbformat_minor": 0,
  "metadata": {
    "colab": {
      "name": "graph_embeddings.ipynb",
      "provenance": [],
      "collapsed_sections": [],
      "toc_visible": true,
      "include_colab_link": true
    },
    "kernelspec": {
      "name": "python3",
      "display_name": "Python 3"
    },
    "language_info": {
      "name": "python"
    }
  },
  "cells": [
    {
      "cell_type": "markdown",
      "metadata": {
        "id": "view-in-github",
        "colab_type": "text"
      },
      "source": [
        "<a href=\"https://colab.research.google.com/github/nikhil0209/Inititalization-Effects-on-Recommenders/blob/main/graph_embeddings.ipynb\" target=\"_parent\"><img src=\"https://colab.research.google.com/assets/colab-badge.svg\" alt=\"Open In Colab\"/></a>"
      ]
    },
    {
      "cell_type": "code",
      "metadata": {
        "id": "Jf8GaNK6KckC",
        "colab": {
          "base_uri": "https://localhost:8080/"
        },
        "outputId": "ac559d11-18e1-4199-b059-77978880b947"
      },
      "source": [
        "#Mounting my local drive to google colab accessible disk storage\n",
        "from google.colab import drive\n",
        "drive.mount('/content/drive')"
      ],
      "execution_count": null,
      "outputs": [
        {
          "output_type": "stream",
          "text": [
            "Mounted at /content/drive\n"
          ],
          "name": "stdout"
        }
      ]
    },
    {
      "cell_type": "code",
      "metadata": {
        "id": "3d26gDDiLP_X"
      },
      "source": [
        "#copying stochastic.py to be able to import it. Contains the graph aligment functions.\n",
        "!cp \"/content/drive/MyDrive/initialization_experiments_collaborative_filtering/stochasticcopy.py\" .\n",
        "!cp \"/content/drive/MyDrive/Colab Notebooks/randomized_box_algorithm.py\" ."
      ],
      "execution_count": null,
      "outputs": []
    },
    {
      "cell_type": "code",
      "metadata": {
        "id": "X5Ipz4oPLUk2"
      },
      "source": [
        "# importing necessary libraries\n",
        "import pandas as pd\n",
        "import numpy as np\n",
        "import torch\n",
        "from tqdm import trange\n",
        "import matplotlib.pyplot as plt\n",
        "import networkx as nx\n",
        "from stochasticcopy import *\n",
        "import time\n",
        "import pickle\n",
        "from torch.utils.data import TensorDataset, Dataset, DataLoader\n",
        "from torch.nn import Module, Parameter\n",
        "from scipy.sparse import coo_matrix\n",
        "import scipy.stats\n",
        "import importlib\n",
        "import sys\n",
        "import random\n",
        "import matplotlib.animation as animation\n",
        "from randomized_box_algorithm import *"
      ],
      "execution_count": null,
      "outputs": []
    },
    {
      "cell_type": "code",
      "metadata": {
        "id": "X3AVeB26LeFl"
      },
      "source": [
        "#This function return the k closest items to point from the neighbours list\n",
        "def knnIndices(point, neighbours, k):\n",
        "  distances = []\n",
        "  for neighbour in neighbours:\n",
        "    distances.append(np.linalg.norm(point - neighbour))\n",
        "  return np.argsort(np.array(distances)).tolist()[:k]"
      ],
      "execution_count": null,
      "outputs": []
    },
    {
      "cell_type": "code",
      "metadata": {
        "id": "PT4-Y7ZSWkE5"
      },
      "source": [
        "def topKDotProds(point, neighbours, k):\n",
        "  dot_prods = []\n",
        "  for neighbour in neighbours:\n",
        "    dot_prods.append(np.dot(point, neighbour))\n",
        "  return np.argsort(np.array(dot_prods)).tolist()[-k:]"
      ],
      "execution_count": null,
      "outputs": []
    },
    {
      "cell_type": "code",
      "metadata": {
        "id": "sSJIR1FqLj2F"
      },
      "source": [
        "# This is the Neural Network class of pytorch which helps in adjusting the features of users and movies so that their dot products are as close to the original movie-user matrix\n",
        "class PMFLoss(torch.nn.Module):\n",
        "    def __init__(self, lam_u=0.3, lam_v=0.3):\n",
        "        super().__init__()\n",
        "        self.lam_u = lam_u\n",
        "        self.lam_v = lam_v\n",
        "    \n",
        "    def forward(self, matrix, u_features, v_features, non_zero_mask):\n",
        "        predicted = torch.sigmoid(torch.matmul(u_features, v_features.t()))\n",
        "        \n",
        "        diff = (matrix - predicted)**2\n",
        "        prediction_error = torch.sum(diff*non_zero_mask)\n",
        "\n",
        "        u_regularization = self.lam_u * torch.sum(u_features.norm(dim=1))\n",
        "        v_regularization = self.lam_v * torch.sum(v_features.norm(dim=1))\n",
        "        \n",
        "        return prediction_error + u_regularization + v_regularization"
      ],
      "execution_count": null,
      "outputs": []
    },
    {
      "cell_type": "code",
      "metadata": {
        "id": "bdIBzLkkL8EV"
      },
      "source": [
        "# This calculates the laplacian matrix of the given graph\n",
        "def find_laplacian(G):\n",
        "    isolated_nodes = list(nx.isolates(G))\n",
        "    print(\"Number of isolated nodes\", len(isolated_nodes))\n",
        "    # G.remove_nodes_from(isolated_nodes) # removing 0 degree nodes from the graph\n",
        "    for node in isolated_nodes:\n",
        "        while True:\n",
        "            x = round(np.random.uniform(0, n_users))\n",
        "            temp = list(G)\n",
        "            if x in temp:\n",
        "                G.add_edge(x, node)\n",
        "                break\n",
        "    n = len(G)\n",
        "    print(\"Length of graph \" + str(n) + \"\\n\")\n",
        "    l1 = nx.laplacian_matrix(G, range(n))\n",
        "    print(\"Shape of L1 is\" + str(l1.shape) + \"\\n\")\n",
        "    l1 = np.array(l1.todense())\n",
        "    print(\"Shape of L1 after densifying \" + str(l1.shape) + \"\\n\")\n",
        "    sbm_G = np.double(l1)\n",
        "    print(\"Length of laplacian is \" +  str(sbm_G.shape) + \"\\n\")\n",
        "    return sbm_G"
      ],
      "execution_count": null,
      "outputs": []
    },
    {
      "cell_type": "code",
      "metadata": {
        "id": "lxNcAvPpKdiw"
      },
      "source": [
        "# Return the elements of list1 which are not present in list2\n",
        "def Diff(li1, li2):\n",
        "    return list(set(li1) - set(li2))"
      ],
      "execution_count": null,
      "outputs": []
    },
    {
      "cell_type": "code",
      "metadata": {
        "id": "cEH5SDe2NcQg"
      },
      "source": [
        "# Some hyperparameters along with numbers of users and number of movies\n",
        "latent_vectors = 90\n",
        "graph_alignment_epochs = 600\n",
        "num_epochs = 10000\n",
        "n_users = 100\n",
        "n_movies = 40\n",
        "k = 20"
      ],
      "execution_count": null,
      "outputs": []
    },
    {
      "cell_type": "code",
      "metadata": {
        "id": "DXMoeJRJL16-"
      },
      "source": [
        "# Initiating the features randomly\n",
        "user_features = np.random.normal(loc=0, scale=1, size=(n_users, latent_vectors))\n",
        "movie_features = np.random.normal(loc=0, scale=1, size=(n_movies, latent_vectors))\n",
        "connectivity_matrix = np.zeros((n_users, n_movies))\n",
        "# forming edges to the k closest movies \n",
        "for i in range(n_users):\n",
        "  knn_indices = knnIndices(user_features[i], movie_features, k)\n",
        "  for idx in knn_indices:\n",
        "    connectivity_matrix[i, idx] = 1\n",
        "print(\"Shape of conncectivty_matirx is\", connectivity_matrix.shape)\n",
        "\n",
        "# Converting the U x I matrix to a N x N matrix where N = U + I. This is the full adjacency matrix of the graph\n",
        "upper_left_matrix = np.zeros((n_users, n_users))\n",
        "upper_right_matrix = connectivity_matrix\n",
        "lower_left_matrix = np.transpose(connectivity_matrix)\n",
        "lower_right_matrix = np.zeros((n_movies, n_movies))\n",
        "upper_matrix = np.concatenate((upper_left_matrix, upper_right_matrix), axis=1)\n",
        "lower_matrix = np.concatenate((lower_left_matrix, lower_right_matrix), axis=1)\n",
        "adjacency_matrix = np.concatenate((upper_matrix, lower_matrix), axis=0)\n",
        "original_graph = nx.from_numpy_array(adjacency_matrix)"
      ],
      "execution_count": null,
      "outputs": []
    },
    {
      "cell_type": "code",
      "metadata": {
        "id": "h4kOqNXNU8Os"
      },
      "source": [
        "# calculating the dot product of all movie user combinations and storing them in a matrix\n",
        "dot_product_matrix = user_features @ movie_features.T"
      ],
      "execution_count": null,
      "outputs": []
    },
    {
      "cell_type": "code",
      "metadata": {
        "id": "IuXPR0jsVZhu"
      },
      "source": [
        "# converting the scores to softmax probabilities\n",
        "exp_matrix = np.exp(dot_product_matrix)\n",
        "movie_user_softmax = exp_matrix/np.tile(np.reshape(np.sum(exp_matrix, axis=1), (n_users, 1)), (1, n_movies))\n",
        "movie_user_hardmax = movie_user_softmax"
      ],
      "execution_count": null,
      "outputs": []
    },
    {
      "cell_type": "code",
      "metadata": {
        "id": "wGA3VFLylI_g"
      },
      "source": [
        "# Choosing top k movie scores as edges and not forming edges with other movies\n",
        "for i in range(movie_user_softmax.shape[0]):\n",
        "  top_k_movies = np.argsort(movie_user_softmax[i, :]).tolist()[-k:]\n",
        "  for movie in top_k_movies:\n",
        "    movie_user_hardmax[i, movie] = 1\n",
        "  not_top_k_movies = Diff([i for i in range(n_movies)], top_k_movies)\n",
        "  for movie in not_top_k_movies:\n",
        "    movie_user_hardmax[i, movie] = 0"
      ],
      "execution_count": null,
      "outputs": []
    },
    {
      "cell_type": "code",
      "metadata": {
        "id": "J4cmS8RpLkrp"
      },
      "source": [
        "# Forming a full N x N matrix from U x I matrix (full adjacency matrix)\n",
        "upper_left_matrix = np.zeros((n_users, n_users))\n",
        "upper_right_matrix = movie_user_hardmax\n",
        "lower_left_matrix = np.transpose(movie_user_hardmax)\n",
        "lower_right_matrix = np.zeros((n_movies, n_movies))\n",
        "upper_matrix = np.concatenate((upper_left_matrix, upper_right_matrix), axis=1)\n",
        "lower_matrix = np.concatenate((lower_left_matrix, lower_right_matrix), axis=1)\n",
        "adjacency_matrix = np.concatenate((upper_matrix, lower_matrix), axis=0)\n",
        "predicted_graph = nx.from_numpy_array(adjacency_matrix)"
      ],
      "execution_count": null,
      "outputs": []
    },
    {
      "cell_type": "code",
      "metadata": {
        "colab": {
          "base_uri": "https://localhost:8080/"
        },
        "id": "6jlC25DbMA00",
        "outputId": "0dfc38ff-2af1-412d-d8ca-77cb19e3b560"
      },
      "source": [
        "# Finding the laplacian of the two graphs\n",
        "sbm_g = find_laplacian(original_graph)\n",
        "sbm_g1 = find_laplacian(predicted_graph)"
      ],
      "execution_count": null,
      "outputs": [
        {
          "output_type": "stream",
          "text": [
            "Number of isolated nodes 0\n",
            "Length of graph 110\n",
            "\n",
            "Shape of L1 is(110, 110)\n",
            "\n",
            "Shape of L1 after densifying (110, 110)\n",
            "\n",
            "Length of laplacian is (110, 110)\n",
            "\n",
            "Number of isolated nodes 0\n",
            "Length of graph 110\n",
            "\n",
            "Shape of L1 is(110, 110)\n",
            "\n",
            "Shape of L1 after densifying (110, 110)\n",
            "\n",
            "Length of laplacian is (110, 110)\n",
            "\n"
          ],
          "name": "stdout"
        }
      ]
    },
    {
      "cell_type": "code",
      "metadata": {
        "colab": {
          "base_uri": "https://localhost:8080/",
          "height": 1000
        },
        "id": "PkxLhdQPOiiz",
        "outputId": "21952119-aed9-4314-d0b7-d9776c3352e9"
      },
      "source": [
        "# Aligning the two graphs\n",
        "start_time = time.time()\n",
        "sbm_G_inv, sbm_G1_inv, sbm_P = find_permutation(sbm_g, sbm_g1, it=10, tau=2, n_samples=k, epochs=graph_alignment_epochs, lr=0.5, \n",
        "                                               loss_type = 'w', alpha = 0.1, ones = True)\n",
        "\n",
        "permutation = []\n",
        "for i in range(sbm_P.shape[0]):\n",
        "    for j in range(sbm_P.shape[1]):\n",
        "        if sbm_P[i][j] == 1:\n",
        "            permutation.append(j)\n",
        "\n",
        "# Permuting the features assuming that movies and users are aligned among themselves and not across the two sets.\n",
        "permuted_indices = permutation[0:n_users]\n",
        "permuted_indices_shifted = [i%n_users for i in permuted_indices]\n",
        "user_features_p = user_features[permuted_indices_shifted, :]\n",
        "permuted_indices = permutation[n_users:n_users+n_movies]\n",
        "permuted_indices_shifted = [i%n_movies for i in permuted_indices]\n",
        "movie_features_p = movie_features[permuted_indices_shifted, :]\n",
        "\n",
        "device = torch.device(\"cuda:0\" if torch.cuda.is_available() else \"cpu\")\n",
        "connectivity_matrix = torch.FloatTensor(connectivity_matrix).to(device)\n",
        "non_zero_mask = (connectivity_matrix != -1)\n",
        "user_features_p = torch.FloatTensor(user_features_p).to(device)\n",
        "movie_features_p = torch.FloatTensor(movie_features_p).to(device)\n",
        "user_features_p.requires_grad = True\n",
        "movie_features_p.requires_grad = True\n",
        "# Performing gradient descent on the original feature space after permuting it according to graph alignments\n",
        "pmferror = PMFLoss(lam_u=0.05, lam_v=0.05)\n",
        "optimizer = torch.optim.Adam([user_features_p, movie_features_p], lr=0.01)\n",
        "\n",
        "bar = trange(num_epochs)\n",
        "losses = []\n",
        "for epoch in bar:\n",
        "    optimizer.zero_grad()\n",
        "    loss = pmferror(connectivity_matrix, user_features_p, movie_features_p, non_zero_mask)\n",
        "    loss.backward()\n",
        "    optimizer.step()\n",
        "    bar.set_postfix(loss=f'{loss:,.3f}')\n",
        "    losses.append(loss)\n",
        "end_time = time.time()\n",
        "print(\"\\nTotal time taken for\", num_epochs, \"iterations is\", end_time - start_time,\"(s)\")\n",
        "plt.plot(losses)\n",
        "plt.xlabel('Loss')\n",
        "plt.ylabel('Iterations')\n",
        "plt.title('Squared sum loss with MVN and graph alignment')\n",
        "plt.show()"
      ],
      "execution_count": null,
      "outputs": [
        {
          "output_type": "stream",
          "text": [
            "[Epoch    1/600] loss: 10.585695 - std: 9.740947\n",
            "[Epoch  100/600] loss: 5.465794 - std: 5.727776\n",
            "[Epoch  200/600] loss: 4.436864 - std: 5.172337\n",
            "[Epoch  300/600] loss: 4.866155 - std: 4.828507\n",
            "[Epoch  400/600] loss: 4.479926 - std: 4.559096\n",
            "[Epoch  500/600] loss: 4.283256 - std: 4.343044\n",
            "[Epoch  600/600] loss: 4.420208 - std: 4.179828\n"
          ],
          "name": "stdout"
        },
        {
          "output_type": "display_data",
          "data": {
            "image/png": "[encoded data removed]",
            "text/plain": [
              "<Figure size 432x288 with 1 Axes>"
            ]
          },
          "metadata": {
            "tags": [],
            "needs_background": "light"
          }
        },
        {
          "output_type": "stream",
          "text": [
            "\n",
            "  0%|          | 0/100 [00:00<?, ?it/s]\u001b[A\n",
            "  0%|          | 0/100 [00:00<?, ?it/s, loss=401.376]\u001b[A\n",
            "  0%|          | 0/100 [00:00<?, ?it/s, loss=396.279]\u001b[A\n",
            "  0%|          | 0/100 [00:00<?, ?it/s, loss=391.241]\u001b[A\n",
            "  0%|          | 0/100 [00:00<?, ?it/s, loss=386.266]\u001b[A\n",
            "  0%|          | 0/100 [00:00<?, ?it/s, loss=381.354]\u001b[A\n",
            "  0%|          | 0/100 [00:00<?, ?it/s, loss=376.507]\u001b[A\n",
            "  0%|          | 0/100 [00:00<?, ?it/s, loss=371.726]\u001b[A\n",
            "  0%|          | 0/100 [00:00<?, ?it/s, loss=367.012]\u001b[A\n",
            "  0%|          | 0/100 [00:00<?, ?it/s, loss=362.367]\u001b[A\n",
            "  0%|          | 0/100 [00:00<?, ?it/s, loss=357.790]\u001b[A\n",
            " 10%|█         | 10/100 [00:00<00:00, 92.56it/s, loss=357.790]\u001b[A\n",
            " 10%|█         | 10/100 [00:00<00:00, 92.56it/s, loss=353.280]\u001b[A\n",
            " 10%|█         | 10/100 [00:00<00:00, 92.56it/s, loss=348.836]\u001b[A\n",
            " 10%|█         | 10/100 [00:00<00:00, 92.56it/s, loss=344.453]\u001b[A\n",
            " 10%|█         | 10/100 [00:00<00:00, 92.56it/s, loss=340.131]\u001b[A\n",
            " 10%|█         | 10/100 [00:00<00:00, 92.56it/s, loss=335.865]\u001b[A\n",
            " 10%|█         | 10/100 [00:00<00:00, 92.56it/s, loss=331.653]\u001b[A\n",
            " 10%|█         | 10/100 [00:00<00:00, 92.56it/s, loss=327.490]\u001b[A\n",
            " 10%|█         | 10/100 [00:00<00:00, 92.56it/s, loss=323.373]\u001b[A\n",
            " 10%|█         | 10/100 [00:00<00:00, 92.56it/s, loss=319.297]\u001b[A\n",
            " 10%|█         | 10/100 [00:00<00:00, 92.56it/s, loss=315.259]\u001b[A\n",
            " 10%|█         | 10/100 [00:00<00:00, 92.56it/s, loss=311.258]\u001b[A\n",
            " 10%|█         | 10/100 [00:00<00:00, 92.56it/s, loss=307.292]\u001b[A\n",
            " 10%|█         | 10/100 [00:00<00:00, 92.56it/s, loss=303.359]\u001b[A\n",
            " 10%|█         | 10/100 [00:00<00:00, 92.56it/s, loss=299.460]\u001b[A\n",
            " 10%|█         | 10/100 [00:00<00:00, 92.56it/s, loss=295.595]\u001b[A\n",
            " 10%|█         | 10/100 [00:00<00:00, 92.56it/s, loss=291.764]\u001b[A\n",
            " 10%|█         | 10/100 [00:00<00:00, 92.56it/s, loss=287.967]\u001b[A\n",
            " 10%|█         | 10/100 [00:00<00:00, 92.56it/s, loss=284.201]\u001b[A\n",
            " 28%|██▊       | 28/100 [00:00<00:00, 106.21it/s, loss=284.201]\u001b[A\n",
            " 28%|██▊       | 28/100 [00:00<00:00, 106.21it/s, loss=280.464]\u001b[A\n",
            " 28%|██▊       | 28/100 [00:00<00:00, 106.21it/s, loss=276.755]\u001b[A\n",
            " 28%|██▊       | 28/100 [00:00<00:00, 106.21it/s, loss=273.071]\u001b[A\n",
            " 28%|██▊       | 28/100 [00:00<00:00, 106.21it/s, loss=269.407]\u001b[A\n",
            " 28%|██▊       | 28/100 [00:00<00:00, 106.21it/s, loss=265.762]\u001b[A\n",
            " 28%|██▊       | 28/100 [00:00<00:00, 106.21it/s, loss=262.133]\u001b[A\n",
            " 28%|██▊       | 28/100 [00:00<00:00, 106.21it/s, loss=258.517]\u001b[A\n",
            " 28%|██▊       | 28/100 [00:00<00:00, 106.21it/s, loss=254.914]\u001b[A\n",
            " 28%|██▊       | 28/100 [00:00<00:00, 106.21it/s, loss=251.324]\u001b[A\n",
            " 28%|██▊       | 28/100 [00:00<00:00, 106.21it/s, loss=247.747]\u001b[A\n",
            " 28%|██▊       | 28/100 [00:00<00:00, 106.21it/s, loss=244.186]\u001b[A\n",
            " 28%|██▊       | 28/100 [00:00<00:00, 106.21it/s, loss=240.646]\u001b[A\n",
            " 28%|██▊       | 28/100 [00:00<00:00, 106.21it/s, loss=237.133]\u001b[A\n",
            " 28%|██▊       | 28/100 [00:00<00:00, 106.21it/s, loss=233.653]\u001b[A\n",
            " 28%|██▊       | 28/100 [00:00<00:00, 106.21it/s, loss=230.216]\u001b[A\n",
            " 28%|██▊       | 28/100 [00:00<00:00, 106.21it/s, loss=226.829]\u001b[A\n",
            " 28%|██▊       | 28/100 [00:00<00:00, 106.21it/s, loss=223.499]\u001b[A\n",
            " 28%|██▊       | 28/100 [00:00<00:00, 106.21it/s, loss=220.233]\u001b[A\n",
            " 28%|██▊       | 28/100 [00:00<00:00, 106.21it/s, loss=217.035]\u001b[A\n",
            " 47%|████▋     | 47/100 [00:00<00:00, 121.73it/s, loss=217.035]\u001b[A\n",
            " 47%|████▋     | 47/100 [00:00<00:00, 121.73it/s, loss=213.904]\u001b[A\n",
            " 47%|████▋     | 47/100 [00:00<00:00, 121.73it/s, loss=210.838]\u001b[A\n",
            " 47%|████▋     | 47/100 [00:00<00:00, 121.73it/s, loss=207.835]\u001b[A\n",
            " 47%|████▋     | 47/100 [00:00<00:00, 121.73it/s, loss=204.888]\u001b[A\n",
            " 47%|████▋     | 47/100 [00:00<00:00, 121.73it/s, loss=201.991]\u001b[A\n",
            " 47%|████▋     | 47/100 [00:00<00:00, 121.73it/s, loss=199.137]\u001b[A\n",
            " 47%|████▋     | 47/100 [00:00<00:00, 121.73it/s, loss=196.322]\u001b[A\n",
            " 47%|████▋     | 47/100 [00:00<00:00, 121.73it/s, loss=193.540]\u001b[A\n",
            " 47%|████▋     | 47/100 [00:00<00:00, 121.73it/s, loss=190.789]\u001b[A\n",
            " 47%|████▋     | 47/100 [00:00<00:00, 121.73it/s, loss=188.068]\u001b[A\n",
            " 47%|████▋     | 47/100 [00:00<00:00, 121.73it/s, loss=185.378]\u001b[A\n",
            " 47%|████▋     | 47/100 [00:00<00:00, 121.73it/s, loss=182.721]\u001b[A\n",
            " 59%|█████▉    | 59/100 [00:00<00:00, 120.18it/s, loss=182.721]\u001b[A\n",
            " 59%|█████▉    | 59/100 [00:00<00:00, 120.18it/s, loss=180.103]\u001b[A\n",
            " 59%|█████▉    | 59/100 [00:00<00:00, 120.18it/s, loss=177.528]\u001b[A\n",
            " 59%|█████▉    | 59/100 [00:00<00:00, 120.18it/s, loss=175.003]\u001b[A\n",
            " 59%|█████▉    | 59/100 [00:00<00:00, 120.18it/s, loss=172.533]\u001b[A\n",
            " 59%|█████▉    | 59/100 [00:00<00:00, 120.18it/s, loss=170.125]\u001b[A\n",
            " 59%|█████▉    | 59/100 [00:00<00:00, 120.18it/s, loss=167.781]\u001b[A\n",
            " 59%|█████▉    | 59/100 [00:00<00:00, 120.18it/s, loss=165.504]\u001b[A\n",
            " 59%|█████▉    | 59/100 [00:00<00:00, 120.18it/s, loss=163.292]\u001b[A\n",
            " 59%|█████▉    | 59/100 [00:00<00:00, 120.18it/s, loss=161.145]\u001b[A\n",
            " 59%|█████▉    | 59/100 [00:00<00:00, 120.18it/s, loss=159.059]\u001b[A\n",
            " 59%|█████▉    | 59/100 [00:00<00:00, 120.18it/s, loss=157.030]\u001b[A\n",
            " 70%|███████   | 70/100 [00:00<00:00, 102.48it/s, loss=157.030]\u001b[A\n",
            " 70%|███████   | 70/100 [00:00<00:00, 102.48it/s, loss=155.053]\u001b[A\n",
            " 70%|███████   | 70/100 [00:00<00:00, 102.48it/s, loss=153.124]\u001b[A\n",
            " 70%|███████   | 70/100 [00:00<00:00, 102.48it/s, loss=151.236]\u001b[A\n",
            " 70%|███████   | 70/100 [00:00<00:00, 102.48it/s, loss=149.385]\u001b[A\n",
            " 70%|███████   | 70/100 [00:00<00:00, 102.48it/s, loss=147.564]\u001b[A\n",
            " 70%|███████   | 70/100 [00:00<00:00, 102.48it/s, loss=145.770]\u001b[A\n",
            " 70%|███████   | 70/100 [00:00<00:00, 102.48it/s, loss=143.997]\u001b[A\n",
            " 70%|███████   | 70/100 [00:00<00:00, 102.48it/s, loss=142.241]\u001b[A\n",
            " 70%|███████   | 70/100 [00:00<00:00, 102.48it/s, loss=140.501]\u001b[A\n",
            " 70%|███████   | 70/100 [00:00<00:00, 102.48it/s, loss=138.774]\u001b[A\n",
            " 70%|███████   | 70/100 [00:00<00:00, 102.48it/s, loss=137.060]\u001b[A\n",
            " 70%|███████   | 70/100 [00:00<00:00, 102.48it/s, loss=135.357]\u001b[A\n",
            " 70%|███████   | 70/100 [00:00<00:00, 102.48it/s, loss=133.666]\u001b[A\n",
            " 70%|███████   | 70/100 [00:00<00:00, 102.48it/s, loss=131.985]\u001b[A\n",
            " 70%|███████   | 70/100 [00:00<00:00, 102.48it/s, loss=130.315]\u001b[A\n",
            " 70%|███████   | 70/100 [00:00<00:00, 102.48it/s, loss=128.653]\u001b[A\n",
            " 86%|████████▌ | 86/100 [00:00<00:00, 112.31it/s, loss=128.653]\u001b[A\n",
            " 86%|████████▌ | 86/100 [00:00<00:00, 112.31it/s, loss=126.999]\u001b[A\n",
            " 86%|████████▌ | 86/100 [00:00<00:00, 112.31it/s, loss=125.355]\u001b[A\n",
            " 86%|████████▌ | 86/100 [00:00<00:00, 112.31it/s, loss=123.721]\u001b[A\n",
            " 86%|████████▌ | 86/100 [00:00<00:00, 112.31it/s, loss=122.100]\u001b[A\n",
            " 86%|████████▌ | 86/100 [00:00<00:00, 112.31it/s, loss=120.496]\u001b[A\n",
            " 86%|████████▌ | 86/100 [00:00<00:00, 112.31it/s, loss=118.913]\u001b[A\n",
            " 86%|████████▌ | 86/100 [00:00<00:00, 112.31it/s, loss=117.355]\u001b[A\n",
            " 86%|████████▌ | 86/100 [00:00<00:00, 112.31it/s, loss=115.828]\u001b[A\n",
            " 86%|████████▌ | 86/100 [00:00<00:00, 112.31it/s, loss=114.339]\u001b[A\n",
            " 86%|████████▌ | 86/100 [00:00<00:00, 112.31it/s, loss=112.892]\u001b[A\n",
            " 86%|████████▌ | 86/100 [00:00<00:00, 112.31it/s, loss=111.492]\u001b[A\n",
            " 86%|████████▌ | 86/100 [00:00<00:00, 112.31it/s, loss=110.141]\u001b[A\n",
            " 98%|█████████▊| 98/100 [00:00<00:00, 101.62it/s, loss=110.141]\u001b[A\n",
            " 98%|█████████▊| 98/100 [00:00<00:00, 101.62it/s, loss=108.838]\u001b[A\n",
            "100%|██████████| 100/100 [00:00<00:00, 116.10it/s, loss=107.580]\n"
          ],
          "name": "stderr"
        },
        {
          "output_type": "stream",
          "text": [
            "\n",
            "Total time taken for 100 iterations is 16.43417739868164 (s)\n"
          ],
          "name": "stdout"
        },
        {
          "output_type": "display_data",
          "data": {
            "image/png": "[encoded data removed]",
            "text/plain": [
              "<Figure size 432x288 with 1 Axes>"
            ]
          },
          "metadata": {
            "tags": [],
            "needs_background": "light"
          }
        }
      ]
    },
    {
      "cell_type": "code",
      "metadata": {
        "colab": {
          "base_uri": "https://localhost:8080/",
          "height": 1000
        },
        "id": "rhYm_SZbZ0l-",
        "outputId": "7b99bf4e-520f-49fd-83cd-2d1a01175aca"
      },
      "source": [
        "# Using random initializations\n",
        "start_time_1 = time.time()\n",
        "device = torch.device(\"cuda:0\" if torch.cuda.is_available() else \"cpu\")\n",
        "user_features = torch.randn(n_users, 304, requires_grad=True, device=device)\n",
        "movie_features = torch.randn(n_movies, 304, requires_grad=True, device=device)\n",
        "connectivity_matrix = torch.FloatTensor(connectivity_matrix).to(device)\n",
        "non_zero_mask = (connectivity_matrix != -1)\n",
        "\n",
        "# Performing gradient descent on the original feature space after permuting it according to graph alignments\n",
        "pmferror = PMFLoss(lam_u=0.05, lam_v=0.05)\n",
        "optimizer = torch.optim.Adam([user_features, movie_features], lr=0.01)\n",
        "is_one = False\n",
        "bar = trange(num_epochs)\n",
        "losses = []\n",
        "for epoch in bar:\n",
        "    optimizer.zero_grad()\n",
        "    loss = pmferror(connectivity_matrix, user_features, movie_features, non_zero_mask)\n",
        "    if epoch % 100 == 99:\n",
        "      connectivity_matrix_1 = user_features.cpu().detach().numpy() @ movie_features.transpose(0, 1).cpu().detach().numpy()\n",
        "      upper_left_matrix_1 = np.zeros((n_users, n_users))\n",
        "      upper_right_matrix_1 = connectivity_matrix_1\n",
        "      lower_left_matrix_1 = np.transpose(connectivity_matrix_1)\n",
        "      lower_right_matrix_1 = np.zeros((n_movies, n_movies))\n",
        "      upper_matrix_1 = np.concatenate((upper_left_matrix_1, upper_right_matrix_1), axis=1)\n",
        "      lower_matrix_1 = np.concatenate((lower_left_matrix_1, lower_right_matrix_1), axis=1)\n",
        "      adjacency_matrix_1 = np.concatenate((upper_matrix_1, lower_matrix_1), axis=0)\n",
        "      mean_average_precision = mAP(adjacency_matrix_1, connectivity_matrix.cpu().detach().numpy(), k)\n",
        "      if mean_average_precision == 1 and is_one == False:\n",
        "        end_time_1 = time.time()\n",
        "        is_one = True\n",
        "        print(\"Time taken to reach mAP of 1 is\", end_time_1 - start_time_1)\n",
        "      print(\"The mean average precision for\", epoch, \"epochs is\", mean_average_precision)\n",
        "    loss.backward()\n",
        "    optimizer.step()\n",
        "    bar.set_postfix(loss=f'{loss:,.3f}')\n",
        "    losses.append(loss)\n",
        "end_time_2 = time.time()\n",
        "print(\"\\nTotal time taken for\", num_epochs, \"iterations is\", end_time_2 - start_time_1,\"(s)\")\n",
        "plt.plot(losses)\n",
        "plt.xlabel('Loss')\n",
        "plt.ylabel('Iterations')\n",
        "plt.title('Squared sum loss with MVN and graph alignment')\n",
        "plt.show()"
      ],
      "execution_count": null,
      "outputs": [
        {
          "output_type": "stream",
          "text": [
            "  1%|          | 121/10000 [00:01<01:29, 110.04it/s, loss=1,248.709]"
          ],
          "name": "stderr"
        },
        {
          "output_type": "stream",
          "text": [
            "The mean average precision for 99 epochs is 0.6417510913213894\n"
          ],
          "name": "stdout"
        },
        {
          "output_type": "stream",
          "text": [
            "  2%|▏         | 227/10000 [00:02<01:23, 117.65it/s, loss=1,138.912]"
          ],
          "name": "stderr"
        },
        {
          "output_type": "stream",
          "text": [
            "The mean average precision for 199 epochs is 0.6795913535832075\n"
          ],
          "name": "stdout"
        },
        {
          "output_type": "stream",
          "text": [
            "  3%|▎         | 321/10000 [00:02<01:24, 114.57it/s, loss=1,027.839]"
          ],
          "name": "stderr"
        },
        {
          "output_type": "stream",
          "text": [
            "The mean average precision for 299 epochs is 0.7127901564401374\n"
          ],
          "name": "stdout"
        },
        {
          "output_type": "stream",
          "text": [
            "  4%|▍         | 425/10000 [00:03<01:24, 113.00it/s, loss=922.357]"
          ],
          "name": "stderr"
        },
        {
          "output_type": "stream",
          "text": [
            "The mean average precision for 399 epochs is 0.7384141336776398\n"
          ],
          "name": "stdout"
        },
        {
          "output_type": "stream",
          "text": [
            "  5%|▌         | 524/10000 [00:04<01:30, 105.04it/s, loss=802.314]"
          ],
          "name": "stderr"
        },
        {
          "output_type": "stream",
          "text": [
            "The mean average precision for 499 epochs is 0.777677890960089\n"
          ],
          "name": "stdout"
        },
        {
          "output_type": "stream",
          "text": [
            "  6%|▋         | 626/10000 [00:05<01:20, 116.50it/s, loss=673.596]"
          ],
          "name": "stderr"
        },
        {
          "output_type": "stream",
          "text": [
            "The mean average precision for 599 epochs is 0.8157497088244573\n"
          ],
          "name": "stdout"
        },
        {
          "output_type": "stream",
          "text": [
            "  7%|▋         | 719/10000 [00:06<01:21, 113.59it/s, loss=530.694]"
          ],
          "name": "stderr"
        },
        {
          "output_type": "stream",
          "text": [
            "The mean average precision for 699 epochs is 0.8537515430411521\n"
          ],
          "name": "stdout"
        },
        {
          "output_type": "stream",
          "text": [
            "  8%|▊         | 825/10000 [00:07<01:20, 113.31it/s, loss=386.449]"
          ],
          "name": "stderr"
        },
        {
          "output_type": "stream",
          "text": [
            "The mean average precision for 799 epochs is 0.906163242150007\n"
          ],
          "name": "stdout"
        },
        {
          "output_type": "stream",
          "text": [
            "  9%|▉         | 916/10000 [00:07<01:18, 116.23it/s, loss=266.233]"
          ],
          "name": "stderr"
        },
        {
          "output_type": "stream",
          "text": [
            "The mean average precision for 899 epochs is 0.9378964343920618\n"
          ],
          "name": "stdout"
        },
        {
          "output_type": "stream",
          "text": [
            " 10%|█         | 1025/10000 [00:08<01:17, 115.90it/s, loss=169.680]"
          ],
          "name": "stderr"
        },
        {
          "output_type": "stream",
          "text": [
            "The mean average precision for 999 epochs is 0.9604896093586497\n"
          ],
          "name": "stdout"
        },
        {
          "output_type": "stream",
          "text": [
            " 11%|█         | 1120/10000 [00:09<01:18, 112.49it/s, loss=104.009]"
          ],
          "name": "stderr"
        },
        {
          "output_type": "stream",
          "text": [
            "The mean average precision for 1099 epochs is 0.9823180343327986\n"
          ],
          "name": "stdout"
        },
        {
          "output_type": "stream",
          "text": [
            " 12%|█▏        | 1216/10000 [00:10<01:15, 116.55it/s, loss=59.178]"
          ],
          "name": "stderr"
        },
        {
          "output_type": "stream",
          "text": [
            "The mean average precision for 1199 epochs is 0.9948095943422764\n"
          ],
          "name": "stdout"
        },
        {
          "output_type": "stream",
          "text": [
            " 13%|█▎        | 1319/10000 [00:11<01:17, 112.33it/s, loss=41.352]"
          ],
          "name": "stderr"
        },
        {
          "output_type": "stream",
          "text": [
            "The mean average precision for 1299 epochs is 0.9993177968380949\n"
          ],
          "name": "stdout"
        },
        {
          "output_type": "stream",
          "text": [
            " 14%|█▍        | 1426/10000 [00:11<01:17, 109.99it/s, loss=34.409]"
          ],
          "name": "stderr"
        },
        {
          "output_type": "stream",
          "text": [
            "Time taken to reach mAP of 1 is 11.964829921722412\n",
            "The mean average precision for 1399 epochs is 1.0\n"
          ],
          "name": "stdout"
        },
        {
          "output_type": "stream",
          "text": [
            " 15%|█▌        | 1520/10000 [00:12<01:24, 99.79it/s, loss=31.835]"
          ],
          "name": "stderr"
        },
        {
          "output_type": "stream",
          "text": [
            "The mean average precision for 1499 epochs is 1.0\n"
          ],
          "name": "stdout"
        },
        {
          "output_type": "stream",
          "text": [
            " 16%|█▌        | 1623/10000 [00:13<01:15, 110.85it/s, loss=30.826]"
          ],
          "name": "stderr"
        },
        {
          "output_type": "stream",
          "text": [
            "The mean average precision for 1599 epochs is 1.0\n"
          ],
          "name": "stdout"
        },
        {
          "output_type": "stream",
          "text": [
            " 17%|█▋        | 1716/10000 [00:14<01:12, 114.21it/s, loss=30.507]"
          ],
          "name": "stderr"
        },
        {
          "output_type": "stream",
          "text": [
            "The mean average precision for 1699 epochs is 1.0\n"
          ],
          "name": "stdout"
        },
        {
          "output_type": "stream",
          "text": [
            " 18%|█▊        | 1815/10000 [00:15<01:09, 117.12it/s, loss=30.403]"
          ],
          "name": "stderr"
        },
        {
          "output_type": "stream",
          "text": [
            "The mean average precision for 1799 epochs is 1.0\n"
          ],
          "name": "stdout"
        },
        {
          "output_type": "stream",
          "text": [
            " 19%|█▉        | 1921/10000 [00:16<01:11, 112.51it/s, loss=30.359]"
          ],
          "name": "stderr"
        },
        {
          "output_type": "stream",
          "text": [
            "The mean average precision for 1899 epochs is 1.0\n"
          ],
          "name": "stdout"
        },
        {
          "output_type": "stream",
          "text": [
            " 20%|██        | 2021/10000 [00:16<01:11, 111.85it/s, loss=30.339]"
          ],
          "name": "stderr"
        },
        {
          "output_type": "stream",
          "text": [
            "The mean average precision for 1999 epochs is 1.0\n"
          ],
          "name": "stdout"
        },
        {
          "output_type": "stream",
          "text": [
            " 21%|██▏       | 2128/10000 [00:17<01:06, 117.90it/s, loss=30.330]"
          ],
          "name": "stderr"
        },
        {
          "output_type": "stream",
          "text": [
            "The mean average precision for 2099 epochs is 1.0\n"
          ],
          "name": "stdout"
        },
        {
          "output_type": "stream",
          "text": [
            " 22%|██▏       | 2215/10000 [00:18<01:13, 106.24it/s, loss=30.325]"
          ],
          "name": "stderr"
        },
        {
          "output_type": "stream",
          "text": [
            "The mean average precision for 2199 epochs is 1.0\n"
          ],
          "name": "stdout"
        },
        {
          "output_type": "stream",
          "text": [
            " 23%|██▎       | 2317/10000 [00:19<01:09, 110.86it/s, loss=30.322]"
          ],
          "name": "stderr"
        },
        {
          "output_type": "stream",
          "text": [
            "The mean average precision for 2299 epochs is 1.0\n"
          ],
          "name": "stdout"
        },
        {
          "output_type": "stream",
          "text": [
            " 24%|██▍       | 2419/10000 [00:20<01:12, 105.19it/s, loss=30.320]"
          ],
          "name": "stderr"
        },
        {
          "output_type": "stream",
          "text": [
            "The mean average precision for 2399 epochs is 1.0\n"
          ],
          "name": "stdout"
        },
        {
          "output_type": "stream",
          "text": [
            " 25%|██▌       | 2525/10000 [00:21<01:01, 120.67it/s, loss=30.319]"
          ],
          "name": "stderr"
        },
        {
          "output_type": "stream",
          "text": [
            "The mean average precision for 2499 epochs is 1.0\n"
          ],
          "name": "stdout"
        },
        {
          "output_type": "stream",
          "text": [
            " 26%|██▌       | 2618/10000 [00:21<01:02, 118.49it/s, loss=30.319]"
          ],
          "name": "stderr"
        },
        {
          "output_type": "stream",
          "text": [
            "The mean average precision for 2599 epochs is 1.0\n"
          ],
          "name": "stdout"
        },
        {
          "output_type": "stream",
          "text": [
            " 27%|██▋       | 2725/10000 [00:22<01:06, 109.43it/s, loss=30.318]"
          ],
          "name": "stderr"
        },
        {
          "output_type": "stream",
          "text": [
            "The mean average precision for 2699 epochs is 1.0\n"
          ],
          "name": "stdout"
        },
        {
          "output_type": "stream",
          "text": [
            " 28%|██▊       | 2827/10000 [00:23<01:04, 110.88it/s, loss=30.318]"
          ],
          "name": "stderr"
        },
        {
          "output_type": "stream",
          "text": [
            "The mean average precision for 2799 epochs is 1.0\n"
          ],
          "name": "stdout"
        },
        {
          "output_type": "stream",
          "text": [
            " 29%|██▉       | 2916/10000 [00:24<01:01, 115.19it/s, loss=30.318]"
          ],
          "name": "stderr"
        },
        {
          "output_type": "stream",
          "text": [
            "The mean average precision for 2899 epochs is 1.0\n"
          ],
          "name": "stdout"
        },
        {
          "output_type": "stream",
          "text": [
            " 30%|███       | 3020/10000 [00:25<01:00, 114.66it/s, loss=30.318]"
          ],
          "name": "stderr"
        },
        {
          "output_type": "stream",
          "text": [
            "The mean average precision for 2999 epochs is 1.0\n"
          ],
          "name": "stdout"
        },
        {
          "output_type": "stream",
          "text": [
            " 31%|███       | 3114/10000 [00:25<01:01, 111.92it/s, loss=30.318]"
          ],
          "name": "stderr"
        },
        {
          "output_type": "stream",
          "text": [
            "The mean average precision for 3099 epochs is 1.0\n"
          ],
          "name": "stdout"
        },
        {
          "output_type": "stream",
          "text": [
            " 32%|███▏      | 3216/10000 [00:26<01:02, 107.99it/s, loss=30.318]"
          ],
          "name": "stderr"
        },
        {
          "output_type": "stream",
          "text": [
            "The mean average precision for 3199 epochs is 1.0\n"
          ],
          "name": "stdout"
        },
        {
          "output_type": "stream",
          "text": [
            " 33%|███▎      | 3315/10000 [00:27<01:03, 105.47it/s, loss=30.318]"
          ],
          "name": "stderr"
        },
        {
          "output_type": "stream",
          "text": [
            "The mean average precision for 3299 epochs is 1.0\n"
          ],
          "name": "stdout"
        },
        {
          "output_type": "stream",
          "text": [
            " 34%|███▍      | 3422/10000 [00:28<00:58, 112.60it/s, loss=30.318]"
          ],
          "name": "stderr"
        },
        {
          "output_type": "stream",
          "text": [
            "The mean average precision for 3399 epochs is 1.0\n"
          ],
          "name": "stdout"
        },
        {
          "output_type": "stream",
          "text": [
            " 35%|███▌      | 3521/10000 [00:29<01:00, 107.89it/s, loss=30.318]"
          ],
          "name": "stderr"
        },
        {
          "output_type": "stream",
          "text": [
            "The mean average precision for 3499 epochs is 1.0\n"
          ],
          "name": "stdout"
        },
        {
          "output_type": "stream",
          "text": [
            " 36%|███▌      | 3616/10000 [00:30<01:02, 102.22it/s, loss=30.318]"
          ],
          "name": "stderr"
        },
        {
          "output_type": "stream",
          "text": [
            "The mean average precision for 3599 epochs is 1.0\n"
          ],
          "name": "stdout"
        },
        {
          "output_type": "stream",
          "text": [
            " 37%|███▋      | 3727/10000 [00:30<00:54, 114.21it/s, loss=30.318]"
          ],
          "name": "stderr"
        },
        {
          "output_type": "stream",
          "text": [
            "The mean average precision for 3699 epochs is 1.0\n"
          ],
          "name": "stdout"
        },
        {
          "output_type": "stream",
          "text": [
            " 38%|███▊      | 3822/10000 [00:31<00:53, 115.71it/s, loss=30.318]"
          ],
          "name": "stderr"
        },
        {
          "output_type": "stream",
          "text": [
            "The mean average precision for 3799 epochs is 1.0\n"
          ],
          "name": "stdout"
        },
        {
          "output_type": "stream",
          "text": [
            " 39%|███▉      | 3928/10000 [00:32<00:53, 113.75it/s, loss=30.318]"
          ],
          "name": "stderr"
        },
        {
          "output_type": "stream",
          "text": [
            "The mean average precision for 3899 epochs is 1.0\n"
          ],
          "name": "stdout"
        },
        {
          "output_type": "stream",
          "text": [
            " 40%|████      | 4021/10000 [00:33<00:50, 117.39it/s, loss=30.318]"
          ],
          "name": "stderr"
        },
        {
          "output_type": "stream",
          "text": [
            "The mean average precision for 3999 epochs is 1.0\n"
          ],
          "name": "stdout"
        },
        {
          "output_type": "stream",
          "text": [
            " 41%|████      | 4124/10000 [00:34<00:56, 104.06it/s, loss=30.318]"
          ],
          "name": "stderr"
        },
        {
          "output_type": "stream",
          "text": [
            "The mean average precision for 4099 epochs is 1.0\n"
          ],
          "name": "stdout"
        },
        {
          "output_type": "stream",
          "text": [
            " 42%|████▏     | 4227/10000 [00:35<00:52, 109.37it/s, loss=30.318]"
          ],
          "name": "stderr"
        },
        {
          "output_type": "stream",
          "text": [
            "The mean average precision for 4199 epochs is 1.0\n"
          ],
          "name": "stdout"
        },
        {
          "output_type": "stream",
          "text": [
            " 43%|████▎     | 4327/10000 [00:35<00:53, 106.79it/s, loss=30.318]"
          ],
          "name": "stderr"
        },
        {
          "output_type": "stream",
          "text": [
            "The mean average precision for 4299 epochs is 1.0\n"
          ],
          "name": "stdout"
        },
        {
          "output_type": "stream",
          "text": [
            " 44%|████▍     | 4415/10000 [00:36<00:52, 107.21it/s, loss=30.318]"
          ],
          "name": "stderr"
        },
        {
          "output_type": "stream",
          "text": [
            "The mean average precision for 4399 epochs is 1.0\n"
          ],
          "name": "stdout"
        },
        {
          "output_type": "stream",
          "text": [
            " 45%|████▌     | 4520/10000 [00:37<00:50, 108.90it/s, loss=30.318]"
          ],
          "name": "stderr"
        },
        {
          "output_type": "stream",
          "text": [
            "The mean average precision for 4499 epochs is 1.0\n"
          ],
          "name": "stdout"
        },
        {
          "output_type": "stream",
          "text": [
            " 46%|████▋     | 4625/10000 [00:38<00:47, 112.29it/s, loss=30.318]"
          ],
          "name": "stderr"
        },
        {
          "output_type": "stream",
          "text": [
            "The mean average precision for 4599 epochs is 1.0\n"
          ],
          "name": "stdout"
        },
        {
          "output_type": "stream",
          "text": [
            " 47%|████▋     | 4722/10000 [00:39<00:47, 112.18it/s, loss=30.318]"
          ],
          "name": "stderr"
        },
        {
          "output_type": "stream",
          "text": [
            "The mean average precision for 4699 epochs is 1.0\n"
          ],
          "name": "stdout"
        },
        {
          "output_type": "stream",
          "text": [
            " 48%|████▊     | 4818/10000 [00:40<00:42, 121.68it/s, loss=30.318]"
          ],
          "name": "stderr"
        },
        {
          "output_type": "stream",
          "text": [
            "The mean average precision for 4799 epochs is 1.0\n"
          ],
          "name": "stdout"
        },
        {
          "output_type": "stream",
          "text": [
            " 49%|████▉     | 4924/10000 [00:40<00:46, 109.00it/s, loss=30.318]"
          ],
          "name": "stderr"
        },
        {
          "output_type": "stream",
          "text": [
            "The mean average precision for 4899 epochs is 1.0\n"
          ],
          "name": "stdout"
        },
        {
          "output_type": "stream",
          "text": [
            " 50%|█████     | 5016/10000 [00:41<00:44, 110.91it/s, loss=30.318]"
          ],
          "name": "stderr"
        },
        {
          "output_type": "stream",
          "text": [
            "The mean average precision for 4999 epochs is 1.0\n"
          ],
          "name": "stdout"
        },
        {
          "output_type": "stream",
          "text": [
            " 51%|█████     | 5120/10000 [00:42<00:40, 119.11it/s, loss=30.318]"
          ],
          "name": "stderr"
        },
        {
          "output_type": "stream",
          "text": [
            "The mean average precision for 5099 epochs is 1.0\n"
          ],
          "name": "stdout"
        },
        {
          "output_type": "stream",
          "text": [
            " 52%|█████▏    | 5214/10000 [00:43<00:45, 106.01it/s, loss=30.318]"
          ],
          "name": "stderr"
        },
        {
          "output_type": "stream",
          "text": [
            "The mean average precision for 5199 epochs is 1.0\n"
          ],
          "name": "stdout"
        },
        {
          "output_type": "stream",
          "text": [
            " 53%|█████▎    | 5324/10000 [00:44<00:41, 113.67it/s, loss=30.318]"
          ],
          "name": "stderr"
        },
        {
          "output_type": "stream",
          "text": [
            "The mean average precision for 5299 epochs is 1.0\n"
          ],
          "name": "stdout"
        },
        {
          "output_type": "stream",
          "text": [
            " 54%|█████▍    | 5416/10000 [00:44<00:41, 109.26it/s, loss=30.318]"
          ],
          "name": "stderr"
        },
        {
          "output_type": "stream",
          "text": [
            "The mean average precision for 5399 epochs is 1.0\n"
          ],
          "name": "stdout"
        },
        {
          "output_type": "stream",
          "text": [
            " 55%|█████▌    | 5516/10000 [00:45<00:42, 105.42it/s, loss=30.318]"
          ],
          "name": "stderr"
        },
        {
          "output_type": "stream",
          "text": [
            "The mean average precision for 5499 epochs is 1.0\n"
          ],
          "name": "stdout"
        },
        {
          "output_type": "stream",
          "text": [
            " 56%|█████▌    | 5619/10000 [00:46<00:39, 112.02it/s, loss=30.318]"
          ],
          "name": "stderr"
        },
        {
          "output_type": "stream",
          "text": [
            "The mean average precision for 5599 epochs is 1.0\n"
          ],
          "name": "stdout"
        },
        {
          "output_type": "stream",
          "text": [
            " 57%|█████▋    | 5723/10000 [00:47<00:38, 111.55it/s, loss=30.318]"
          ],
          "name": "stderr"
        },
        {
          "output_type": "stream",
          "text": [
            "The mean average precision for 5699 epochs is 1.0\n"
          ],
          "name": "stdout"
        },
        {
          "output_type": "stream",
          "text": [
            " 58%|█████▊    | 5825/10000 [00:48<00:36, 115.71it/s, loss=30.318]"
          ],
          "name": "stderr"
        },
        {
          "output_type": "stream",
          "text": [
            "The mean average precision for 5799 epochs is 1.0\n"
          ],
          "name": "stdout"
        },
        {
          "output_type": "stream",
          "text": [
            " 59%|█████▉    | 5914/10000 [00:49<00:39, 103.70it/s, loss=30.318]"
          ],
          "name": "stderr"
        },
        {
          "output_type": "stream",
          "text": [
            "The mean average precision for 5899 epochs is 1.0\n"
          ],
          "name": "stdout"
        },
        {
          "output_type": "stream",
          "text": [
            " 60%|██████    | 6015/10000 [00:49<00:37, 107.09it/s, loss=30.318]"
          ],
          "name": "stderr"
        },
        {
          "output_type": "stream",
          "text": [
            "The mean average precision for 5999 epochs is 1.0\n"
          ],
          "name": "stdout"
        },
        {
          "output_type": "stream",
          "text": [
            " 61%|██████    | 6121/10000 [00:50<00:35, 108.27it/s, loss=30.318]"
          ],
          "name": "stderr"
        },
        {
          "output_type": "stream",
          "text": [
            "The mean average precision for 6099 epochs is 1.0\n"
          ],
          "name": "stdout"
        },
        {
          "output_type": "stream",
          "text": [
            " 62%|██████▏   | 6220/10000 [00:51<00:35, 105.25it/s, loss=30.318]"
          ],
          "name": "stderr"
        },
        {
          "output_type": "stream",
          "text": [
            "The mean average precision for 6199 epochs is 1.0\n"
          ],
          "name": "stdout"
        },
        {
          "output_type": "stream",
          "text": [
            " 63%|██████▎   | 6323/10000 [00:52<00:34, 106.50it/s, loss=30.318]"
          ],
          "name": "stderr"
        },
        {
          "output_type": "stream",
          "text": [
            "The mean average precision for 6299 epochs is 1.0\n"
          ],
          "name": "stdout"
        },
        {
          "output_type": "stream",
          "text": [
            " 64%|██████▍   | 6418/10000 [00:53<00:32, 111.08it/s, loss=30.318]"
          ],
          "name": "stderr"
        },
        {
          "output_type": "stream",
          "text": [
            "The mean average precision for 6399 epochs is 1.0\n"
          ],
          "name": "stdout"
        },
        {
          "output_type": "stream",
          "text": [
            " 65%|██████▌   | 6521/10000 [00:54<00:32, 108.69it/s, loss=30.318]"
          ],
          "name": "stderr"
        },
        {
          "output_type": "stream",
          "text": [
            "The mean average precision for 6499 epochs is 1.0\n"
          ],
          "name": "stdout"
        },
        {
          "output_type": "stream",
          "text": [
            " 66%|██████▌   | 6623/10000 [00:55<00:30, 110.06it/s, loss=30.318]"
          ],
          "name": "stderr"
        },
        {
          "output_type": "stream",
          "text": [
            "The mean average precision for 6599 epochs is 1.0\n"
          ],
          "name": "stdout"
        },
        {
          "output_type": "stream",
          "text": [
            " 67%|██████▋   | 6717/10000 [00:55<00:29, 112.60it/s, loss=30.318]"
          ],
          "name": "stderr"
        },
        {
          "output_type": "stream",
          "text": [
            "The mean average precision for 6699 epochs is 1.0\n"
          ],
          "name": "stdout"
        },
        {
          "output_type": "stream",
          "text": [
            " 68%|██████▊   | 6819/10000 [00:56<00:28, 109.86it/s, loss=30.318]"
          ],
          "name": "stderr"
        },
        {
          "output_type": "stream",
          "text": [
            "The mean average precision for 6799 epochs is 1.0\n"
          ],
          "name": "stdout"
        },
        {
          "output_type": "stream",
          "text": [
            " 69%|██████▉   | 6919/10000 [00:57<00:25, 119.05it/s, loss=30.318]"
          ],
          "name": "stderr"
        },
        {
          "output_type": "stream",
          "text": [
            "The mean average precision for 6899 epochs is 1.0\n"
          ],
          "name": "stdout"
        },
        {
          "output_type": "stream",
          "text": [
            " 70%|███████   | 7016/10000 [00:58<00:29, 102.67it/s, loss=30.318]"
          ],
          "name": "stderr"
        },
        {
          "output_type": "stream",
          "text": [
            "The mean average precision for 6999 epochs is 1.0\n"
          ],
          "name": "stdout"
        },
        {
          "output_type": "stream",
          "text": [
            " 71%|███████▏  | 7126/10000 [00:59<00:25, 111.84it/s, loss=30.318]"
          ],
          "name": "stderr"
        },
        {
          "output_type": "stream",
          "text": [
            "The mean average precision for 7099 epochs is 1.0\n"
          ],
          "name": "stdout"
        },
        {
          "output_type": "stream",
          "text": [
            " 72%|███████▏  | 7213/10000 [00:59<00:26, 105.46it/s, loss=30.318]"
          ],
          "name": "stderr"
        },
        {
          "output_type": "stream",
          "text": [
            "The mean average precision for 7199 epochs is 1.0\n"
          ],
          "name": "stdout"
        },
        {
          "output_type": "stream",
          "text": [
            " 73%|███████▎  | 7314/10000 [01:00<00:25, 104.18it/s, loss=30.318]"
          ],
          "name": "stderr"
        },
        {
          "output_type": "stream",
          "text": [
            "The mean average precision for 7299 epochs is 1.0\n"
          ],
          "name": "stdout"
        },
        {
          "output_type": "stream",
          "text": [
            " 74%|███████▍  | 7429/10000 [01:01<00:22, 115.57it/s, loss=30.318]"
          ],
          "name": "stderr"
        },
        {
          "output_type": "stream",
          "text": [
            "The mean average precision for 7399 epochs is 1.0\n"
          ],
          "name": "stdout"
        },
        {
          "output_type": "stream",
          "text": [
            " 75%|███████▌  | 7524/10000 [01:02<00:20, 120.18it/s, loss=30.318]"
          ],
          "name": "stderr"
        },
        {
          "output_type": "stream",
          "text": [
            "The mean average precision for 7499 epochs is 1.0\n"
          ],
          "name": "stdout"
        },
        {
          "output_type": "stream",
          "text": [
            " 76%|███████▌  | 7623/10000 [01:03<00:20, 115.01it/s, loss=30.318]"
          ],
          "name": "stderr"
        },
        {
          "output_type": "stream",
          "text": [
            "The mean average precision for 7599 epochs is 1.0\n"
          ],
          "name": "stdout"
        },
        {
          "output_type": "stream",
          "text": [
            " 77%|███████▋  | 7718/10000 [01:04<00:21, 108.59it/s, loss=30.318]"
          ],
          "name": "stderr"
        },
        {
          "output_type": "stream",
          "text": [
            "The mean average precision for 7699 epochs is 1.0\n"
          ],
          "name": "stdout"
        },
        {
          "output_type": "stream",
          "text": [
            " 78%|███████▊  | 7823/10000 [01:04<00:18, 117.32it/s, loss=30.318]"
          ],
          "name": "stderr"
        },
        {
          "output_type": "stream",
          "text": [
            "The mean average precision for 7799 epochs is 1.0\n"
          ],
          "name": "stdout"
        },
        {
          "output_type": "stream",
          "text": [
            " 79%|███████▉  | 7921/10000 [01:05<00:18, 115.30it/s, loss=30.318]"
          ],
          "name": "stderr"
        },
        {
          "output_type": "stream",
          "text": [
            "The mean average precision for 7899 epochs is 1.0\n"
          ],
          "name": "stdout"
        },
        {
          "output_type": "stream",
          "text": [
            " 80%|████████  | 8020/10000 [01:06<00:17, 113.66it/s, loss=30.318]"
          ],
          "name": "stderr"
        },
        {
          "output_type": "stream",
          "text": [
            "The mean average precision for 7999 epochs is 1.0\n"
          ],
          "name": "stdout"
        },
        {
          "output_type": "stream",
          "text": [
            " 81%|████████  | 8121/10000 [01:07<00:18, 103.57it/s, loss=30.318]"
          ],
          "name": "stderr"
        },
        {
          "output_type": "stream",
          "text": [
            "The mean average precision for 8099 epochs is 1.0\n"
          ],
          "name": "stdout"
        },
        {
          "output_type": "stream",
          "text": [
            " 82%|████████▏ | 8214/10000 [01:08<00:18, 97.48it/s, loss=30.318]"
          ],
          "name": "stderr"
        },
        {
          "output_type": "stream",
          "text": [
            "The mean average precision for 8199 epochs is 1.0\n"
          ],
          "name": "stdout"
        },
        {
          "output_type": "stream",
          "text": [
            " 83%|████████▎ | 8329/10000 [01:09<00:14, 116.36it/s, loss=30.318]"
          ],
          "name": "stderr"
        },
        {
          "output_type": "stream",
          "text": [
            "The mean average precision for 8299 epochs is 1.0\n"
          ],
          "name": "stdout"
        },
        {
          "output_type": "stream",
          "text": [
            " 84%|████████▍ | 8416/10000 [01:09<00:14, 111.28it/s, loss=30.318]"
          ],
          "name": "stderr"
        },
        {
          "output_type": "stream",
          "text": [
            "The mean average precision for 8399 epochs is 1.0\n"
          ],
          "name": "stdout"
        },
        {
          "output_type": "stream",
          "text": [
            " 85%|████████▌ | 8521/10000 [01:10<00:13, 106.18it/s, loss=30.318]"
          ],
          "name": "stderr"
        },
        {
          "output_type": "stream",
          "text": [
            "The mean average precision for 8499 epochs is 1.0\n"
          ],
          "name": "stdout"
        },
        {
          "output_type": "stream",
          "text": [
            " 86%|████████▌ | 8613/10000 [01:11<00:12, 108.10it/s, loss=30.318]"
          ],
          "name": "stderr"
        },
        {
          "output_type": "stream",
          "text": [
            "The mean average precision for 8599 epochs is 1.0\n"
          ],
          "name": "stdout"
        },
        {
          "output_type": "stream",
          "text": [
            " 87%|████████▋ | 8726/10000 [01:12<00:11, 107.53it/s, loss=30.318]"
          ],
          "name": "stderr"
        },
        {
          "output_type": "stream",
          "text": [
            "The mean average precision for 8699 epochs is 1.0\n"
          ],
          "name": "stdout"
        },
        {
          "output_type": "stream",
          "text": [
            " 88%|████████▊ | 8828/10000 [01:13<00:10, 110.92it/s, loss=30.318]"
          ],
          "name": "stderr"
        },
        {
          "output_type": "stream",
          "text": [
            "The mean average precision for 8799 epochs is 1.0\n"
          ],
          "name": "stdout"
        },
        {
          "output_type": "stream",
          "text": [
            " 89%|████████▉ | 8928/10000 [01:14<00:09, 110.57it/s, loss=30.318]"
          ],
          "name": "stderr"
        },
        {
          "output_type": "stream",
          "text": [
            "The mean average precision for 8899 epochs is 1.0\n"
          ],
          "name": "stdout"
        },
        {
          "output_type": "stream",
          "text": [
            " 90%|█████████ | 9013/10000 [01:14<00:09, 101.42it/s, loss=30.318]"
          ],
          "name": "stderr"
        },
        {
          "output_type": "stream",
          "text": [
            "The mean average precision for 8999 epochs is 1.0\n"
          ],
          "name": "stdout"
        },
        {
          "output_type": "stream",
          "text": [
            " 91%|█████████▏| 9125/10000 [01:15<00:08, 104.68it/s, loss=30.318]"
          ],
          "name": "stderr"
        },
        {
          "output_type": "stream",
          "text": [
            "The mean average precision for 9099 epochs is 1.0\n"
          ],
          "name": "stdout"
        },
        {
          "output_type": "stream",
          "text": [
            " 92%|█████████▏| 9221/10000 [01:16<00:07, 103.26it/s, loss=30.318]"
          ],
          "name": "stderr"
        },
        {
          "output_type": "stream",
          "text": [
            "The mean average precision for 9199 epochs is 1.0\n"
          ],
          "name": "stdout"
        },
        {
          "output_type": "stream",
          "text": [
            " 93%|█████████▎| 9322/10000 [01:17<00:06, 110.36it/s, loss=30.318]"
          ],
          "name": "stderr"
        },
        {
          "output_type": "stream",
          "text": [
            "The mean average precision for 9299 epochs is 1.0\n"
          ],
          "name": "stdout"
        },
        {
          "output_type": "stream",
          "text": [
            " 94%|█████████▍| 9423/10000 [01:18<00:05, 106.75it/s, loss=30.318]"
          ],
          "name": "stderr"
        },
        {
          "output_type": "stream",
          "text": [
            "The mean average precision for 9399 epochs is 1.0\n"
          ],
          "name": "stdout"
        },
        {
          "output_type": "stream",
          "text": [
            " 95%|█████████▌| 9515/10000 [01:19<00:04, 101.10it/s, loss=30.318]"
          ],
          "name": "stderr"
        },
        {
          "output_type": "stream",
          "text": [
            "The mean average precision for 9499 epochs is 1.0\n"
          ],
          "name": "stdout"
        },
        {
          "output_type": "stream",
          "text": [
            " 96%|█████████▌| 9618/10000 [01:20<00:03, 111.57it/s, loss=30.318]"
          ],
          "name": "stderr"
        },
        {
          "output_type": "stream",
          "text": [
            "The mean average precision for 9599 epochs is 1.0\n"
          ],
          "name": "stdout"
        },
        {
          "output_type": "stream",
          "text": [
            " 97%|█████████▋| 9725/10000 [01:21<00:02, 115.72it/s, loss=30.318]"
          ],
          "name": "stderr"
        },
        {
          "output_type": "stream",
          "text": [
            "The mean average precision for 9699 epochs is 1.0\n"
          ],
          "name": "stdout"
        },
        {
          "output_type": "stream",
          "text": [
            " 98%|█████████▊| 9819/10000 [01:21<00:01, 108.84it/s, loss=30.318]"
          ],
          "name": "stderr"
        },
        {
          "output_type": "stream",
          "text": [
            "The mean average precision for 9799 epochs is 1.0\n"
          ],
          "name": "stdout"
        },
        {
          "output_type": "stream",
          "text": [
            " 99%|█████████▉| 9918/10000 [01:22<00:00, 101.84it/s, loss=30.318]"
          ],
          "name": "stderr"
        },
        {
          "output_type": "stream",
          "text": [
            "The mean average precision for 9899 epochs is 1.0\n"
          ],
          "name": "stdout"
        },
        {
          "output_type": "stream",
          "text": [
            "100%|██████████| 10000/10000 [01:23<00:00, 119.89it/s, loss=30.318]\n"
          ],
          "name": "stderr"
        },
        {
          "output_type": "stream",
          "text": [
            "The mean average precision for 9999 epochs is 1.0\n",
            "\n",
            "Total time taken for 10000 iterations is 83.68306231498718 (s)\n"
          ],
          "name": "stdout"
        },
        {
          "output_type": "display_data",
          "data": {
            "image/png": "[encoded data removed]",
            "text/plain": [
              "<Figure size 432x288 with 1 Axes>"
            ]
          },
          "metadata": {
            "tags": [],
            "needs_background": "light"
          }
        }
      ]
    },
    {
      "cell_type": "code",
      "metadata": {
        "colab": {
          "base_uri": "https://localhost:8080/"
        },
        "id": "z7xrz0TbaDEm",
        "outputId": "eb59c396-aeac-4f3f-b5fc-7d9047deb494"
      },
      "source": [
        "'''\n",
        "Forming the original graph using dot product instead of distance\n",
        "'''\n",
        "# Initiating the features randomly\n",
        "user_features = np.random.normal(loc=0, scale=1, size=(n_users, latent_vectors))\n",
        "movie_features = np.random.normal(loc=0, scale=1, size=(n_movies, latent_vectors))\n",
        "connectivity_matrix = np.zeros((n_users, n_movies))\n",
        "# forming edges to the k highes dot product movies \n",
        "for i in range(n_users):\n",
        "  knn_indices = topKDotProds(user_features[i], movie_features, k)\n",
        "  for idx in knn_indices:\n",
        "    connectivity_matrix[i, idx] = 1\n",
        "print(\"Shape of conncectivty_matirx is\", connectivity_matrix.shape)\n",
        "\n",
        "# Converting the U x I matrix to a N x N matrix where N = U + I. This is the full adjacency matrix of the graph\n",
        "upper_left_matrix = np.zeros((n_users, n_users))\n",
        "upper_right_matrix = connectivity_matrix\n",
        "lower_left_matrix = np.transpose(connectivity_matrix)\n",
        "lower_right_matrix = np.zeros((n_movies, n_movies))\n",
        "upper_matrix = np.concatenate((upper_left_matrix, upper_right_matrix), axis=1)\n",
        "lower_matrix = np.concatenate((lower_left_matrix, lower_right_matrix), axis=1)\n",
        "adjacency_matrix = np.concatenate((upper_matrix, lower_matrix), axis=0)\n",
        "original_graph = nx.from_numpy_array(adjacency_matrix)"
      ],
      "execution_count": null,
      "outputs": [
        {
          "output_type": "stream",
          "text": [
            "Shape of conncectivty_matirx is (100, 10)\n"
          ],
          "name": "stdout"
        }
      ]
    },
    {
      "cell_type": "code",
      "metadata": {
        "id": "tHuhVIaHa_J8"
      },
      "source": [
        "# calculating the dot product of all movie user combinations and storing them in a matrix\n",
        "dot_product_matrix = user_features @ movie_features.T"
      ],
      "execution_count": null,
      "outputs": []
    },
    {
      "cell_type": "code",
      "metadata": {
        "id": "LSg5_IHEbHxl"
      },
      "source": [
        "# converting the scores to softmax probabilities\n",
        "exp_matrix = np.exp(dot_product_matrix)\n",
        "movie_user_softmax = exp_matrix/np.tile(np.reshape(np.sum(exp_matrix, axis=1), (n_users, 1)), (1, n_movies))\n",
        "movie_user_hardmax = movie_user_softmax"
      ],
      "execution_count": null,
      "outputs": []
    },
    {
      "cell_type": "code",
      "metadata": {
        "id": "zXlBDP8lyixT"
      },
      "source": [
        "# Choosing top k movie scores as edges and not forming edges with other movies\n",
        "for i in range(dot_product_matrix.shape[0]):\n",
        "  top_k_movies = np.argsort(dot_product_matrix[i, :]).tolist()[-k:]\n",
        "  for movie in top_k_movies:\n",
        "    movie_user_hardmax[i, movie] = 1\n",
        "  not_top_k_movies = Diff([i for i in range(n_movies)], top_k_movies)\n",
        "  for movie in not_top_k_movies:\n",
        "    movie_user_hardmax[i, movie] = 0"
      ],
      "execution_count": null,
      "outputs": []
    },
    {
      "cell_type": "code",
      "metadata": {
        "id": "xAXr6flvbNY2"
      },
      "source": [
        "# Choosing top k movie scores as edges and not forming edges with other movies\n",
        "for i in range(movie_user_softmax.shape[0]):\n",
        "  top_k_movies = np.argsort(movie_user_softmax[i, :]).tolist()[-k:]\n",
        "  for movie in top_k_movies:\n",
        "    movie_user_hardmax[i, movie] = 1\n",
        "  not_top_k_movies = Diff([i for i in range(n_movies)], top_k_movies)\n",
        "  for movie in not_top_k_movies:\n",
        "    movie_user_hardmax[i, movie] = 0"
      ],
      "execution_count": null,
      "outputs": []
    },
    {
      "cell_type": "code",
      "metadata": {
        "id": "3rGg2YeSbR4t"
      },
      "source": [
        "# Forming a full N x N matrix from U x I matrix (full adjacency matrix)\n",
        "upper_left_matrix = np.zeros((n_users, n_users))\n",
        "upper_right_matrix = movie_user_hardmax\n",
        "lower_left_matrix = np.transpose(movie_user_hardmax)\n",
        "lower_right_matrix = np.zeros((n_movies, n_movies))\n",
        "upper_matrix = np.concatenate((upper_left_matrix, upper_right_matrix), axis=1)\n",
        "lower_matrix = np.concatenate((lower_left_matrix, lower_right_matrix), axis=1)\n",
        "adjacency_matrix_1 = np.concatenate((upper_matrix, lower_matrix), axis=0)\n",
        "predicted_graph = nx.from_numpy_array(adjacency_matrix_1)"
      ],
      "execution_count": null,
      "outputs": []
    },
    {
      "cell_type": "code",
      "metadata": {
        "colab": {
          "base_uri": "https://localhost:8080/"
        },
        "id": "PExHk_Y-bV18",
        "outputId": "71d55bf9-2920-4cf2-bcc5-4b945e9cab53"
      },
      "source": [
        "# Finding the laplacian of the two graphs\n",
        "sbm_g = find_laplacian(original_graph)\n",
        "sbm_g1 = find_laplacian(predicted_graph)"
      ],
      "execution_count": null,
      "outputs": [
        {
          "output_type": "stream",
          "text": [
            "Number of isolated nodes 0\n",
            "Length of graph 110\n",
            "\n",
            "Shape of L1 is(110, 110)\n",
            "\n",
            "Shape of L1 after densifying (110, 110)\n",
            "\n",
            "Length of laplacian is (110, 110)\n",
            "\n",
            "Number of isolated nodes 0\n",
            "Length of graph 110\n",
            "\n",
            "Shape of L1 is(110, 110)\n",
            "\n",
            "Shape of L1 after densifying (110, 110)\n",
            "\n",
            "Length of laplacian is (110, 110)\n",
            "\n"
          ],
          "name": "stdout"
        }
      ]
    },
    {
      "cell_type": "code",
      "metadata": {
        "colab": {
          "base_uri": "https://localhost:8080/",
          "height": 384
        },
        "id": "mAMZvMAtbk2d",
        "outputId": "276cf44b-57fc-42b6-ea94-bb4889557452"
      },
      "source": [
        "# Aligning the two graphs\n",
        "start_time = time.time()\n",
        "sbm_G_inv, sbm_G1_inv, sbm_P = find_permutation(sbm_g, sbm_g1, it=10, tau=2, n_samples=k, epochs=graph_alignment_epochs, lr=0.5, \n",
        "                                               loss_type = 'w', alpha = 0.1, ones = True)\n",
        "\n",
        "permutation = []\n",
        "for i in range(sbm_P.shape[0]):\n",
        "    for j in range(sbm_P.shape[1]):\n",
        "        if sbm_P[i][j] == 1:\n",
        "            permutation.append(j)\n",
        "\n",
        "# Permuting the features assuming that movies and users are aligned among themselves and not across the two sets."
      ],
      "execution_count": null,
      "outputs": [
        {
          "output_type": "stream",
          "text": [
            "[Epoch    1/600] loss: 10.578701 - std: 9.748900\n",
            "[Epoch  100/600] loss: 5.842093 - std: 5.775603\n",
            "[Epoch  200/600] loss: 4.595595 - std: 5.254131\n",
            "[Epoch  300/600] loss: 4.541889 - std: 4.927065\n",
            "[Epoch  400/600] loss: 4.471151 - std: 4.654711\n",
            "[Epoch  500/600] loss: 4.236334 - std: 4.415193\n",
            "[Epoch  600/600] loss: 3.814388 - std: 4.212189\n"
          ],
          "name": "stdout"
        },
        {
          "output_type": "display_data",
          "data": {
            "image/png": "[encoded data removed]",
            "text/plain": [
              "<Figure size 432x288 with 1 Axes>"
            ]
          },
          "metadata": {
            "tags": [],
            "needs_background": "light"
          }
        }
      ]
    },
    {
      "cell_type": "code",
      "metadata": {
        "colab": {
          "base_uri": "https://localhost:8080/"
        },
        "id": "NhZH-iu_brGl",
        "outputId": "fbe7f438-ae5c-46d7-c27f-657d7b82187a"
      },
      "source": [
        "print(permutation)"
      ],
      "execution_count": null,
      "outputs": [
        {
          "output_type": "stream",
          "text": [
            "[22, 6, 86, 68, 1, 52, 84, 32, 78, 85, 15, 89, 33, 63, 49, 48, 28, 9, 40, 44, 99, 2, 21, 45, 41, 29, 79, 50, 43, 37, 74, 26, 53, 76, 75, 30, 3, 31, 35, 23, 77, 73, 0, 95, 80, 12, 70, 39, 7, 88, 94, 69, 72, 92, 60, 57, 83, 90, 71, 36, 66, 13, 65, 69, 27, 8, 5, 97, 64, 88, 54, 47, 51, 41, 17, 25, 91, 16, 4, 55, 38, 82, 10, 46, 34, 24, 20, 14, 18, 93, 11, 67, 62, 56, 61, 42, 58, 59, 81, 19, 104, 100, 109, 107, 108, 102, 103, 105, 101, 106]\n"
          ],
          "name": "stdout"
        }
      ]
    },
    {
      "cell_type": "code",
      "metadata": {
        "colab": {
          "base_uri": "https://localhost:8080/",
          "height": 346
        },
        "id": "cw_adQk2b3V4",
        "outputId": "c60d423e-4a3a-4d18-fb4a-70df4e960430"
      },
      "source": [
        "start_time = time.time()\n",
        "permutation = [i for i in range(n_users + n_movies)]\n",
        "permuted_indices = permutation[0:n_users]\n",
        "permuted_indices_shifted = [i%n_users for i in permuted_indices]\n",
        "user_features_p = user_features[permuted_indices_shifted, :]\n",
        "permuted_indices = permutation[n_users:n_users+n_movies]\n",
        "permuted_indices_shifted = [i%n_movies for i in permuted_indices]\n",
        "movie_features_p = movie_features[permuted_indices_shifted, :]\n",
        "\n",
        "device = torch.device(\"cuda:0\" if torch.cuda.is_available() else \"cpu\")\n",
        "connectivity_matrix = torch.FloatTensor(connectivity_matrix).to(device)\n",
        "non_zero_mask = (connectivity_matrix != -1)\n",
        "user_features_p = torch.FloatTensor(user_features_p).to(device)\n",
        "movie_features_p = torch.FloatTensor(movie_features_p).to(device)\n",
        "user_features_p.requires_grad = True\n",
        "movie_features_p.requires_grad = True\n",
        "# Performing gradient descent on the original feature space after permuting it according to graph alignments\n",
        "pmferror = PMFLoss(lam_u=0.05, lam_v=0.05)\n",
        "optimizer = torch.optim.Adam([user_features_p, movie_features_p], lr=0.01)\n",
        "\n",
        "bar = trange(num_epochs)\n",
        "losses = []\n",
        "for epoch in bar:\n",
        "    optimizer.zero_grad()\n",
        "    loss = pmferror(connectivity_matrix, user_features_p, movie_features_p, non_zero_mask)\n",
        "    loss.backward()\n",
        "    optimizer.step()\n",
        "    bar.set_postfix(loss=f'{loss:,.3f}')\n",
        "    losses.append(loss)\n",
        "end_time = time.time()\n",
        "print(\"\\nTotal time taken for\", num_epochs, \"iterations is\", end_time - start_time,\"(s)\")\n",
        "plt.plot(losses)\n",
        "plt.xlabel('Loss')\n",
        "plt.ylabel('Iterations')\n",
        "plt.title('Squared sum loss with identity init')\n",
        "plt.show()"
      ],
      "execution_count": null,
      "outputs": [
        {
          "output_type": "stream",
          "text": [
            "100%|██████████| 100/100 [00:00<00:00, 234.11it/s, loss=41.002]\n"
          ],
          "name": "stderr"
        },
        {
          "output_type": "stream",
          "text": [
            "\n",
            "Total time taken for 100 iterations is 0.43335390090942383 (s)\n"
          ],
          "name": "stdout"
        },
        {
          "output_type": "display_data",
          "data": {
            "image/png": "[encoded data removed]",
            "text/plain": [
              "<Figure size 432x288 with 1 Axes>"
            ]
          },
          "metadata": {
            "tags": [],
            "needs_background": "light"
          }
        }
      ]
    },
    {
      "cell_type": "code",
      "metadata": {
        "colab": {
          "base_uri": "https://localhost:8080/",
          "height": 346
        },
        "id": "Li41ZW3Zxiki",
        "outputId": "9bf90295-67d5-4f2c-9f4a-1dbdfb05cdf1"
      },
      "source": [
        "'''\n",
        "Trying with X' = G X initialization \n",
        "'''\n",
        "start_time = time.time()\n",
        "user_features_3 = np.random.normal(loc=0, scale=1, size=(n_users, latent_vectors))\n",
        "movie_features_3 = np.random.normal(loc=0, scale=1, size=(n_movies, latent_vectors))\n",
        "combined_features = np.concatenate((user_features_3, movie_features_3), axis=0)\n",
        "new_combined_features = adjacency_matrix @ combined_features\n",
        "user_features_new_3 = new_combined_features[:n_users]\n",
        "movie_features_new_3 = new_combined_features[n_users:]\n",
        "device = torch.device(\"cuda:0\" if torch.cuda.is_available() else \"cpu\")\n",
        "connectivity_matrix = torch.FloatTensor(connectivity_matrix).to(device)\n",
        "non_zero_mask = (connectivity_matrix != -1)\n",
        "user_features_new_3 = torch.FloatTensor(user_features_new_3).to(device)\n",
        "movie_features_new_3 = torch.FloatTensor(movie_features_new_3).to(device)\n",
        "user_features_new_3.requires_grad = True\n",
        "movie_features_new_3.requires_grad = True\n",
        "# Performing gradient descent on the original feature space after permuting it according to graph alignments\n",
        "pmferror = PMFLoss(lam_u=0.05, lam_v=0.05)\n",
        "optimizer = torch.optim.Adam([user_features_new_3, movie_features_new_3], lr=0.01)\n",
        "\n",
        "bar = trange(num_epochs)\n",
        "losses = []\n",
        "for epoch in bar:\n",
        "    optimizer.zero_grad()\n",
        "    loss = pmferror(connectivity_matrix, user_features_new_3, movie_features_new_3, non_zero_mask)\n",
        "    loss.backward()\n",
        "    optimizer.step()\n",
        "    bar.set_postfix(loss=f'{loss:,.3f}')\n",
        "    losses.append(loss)\n",
        "end_time = time.time()\n",
        "print(\"\\nTotal time taken for\", num_epochs, \"iterations is\", end_time - start_time,\"(s)\")\n",
        "plt.plot(losses)\n",
        "plt.xlabel('Loss')\n",
        "plt.ylabel('Iterations')\n",
        "plt.title('Squared sum loss with GX as init')\n",
        "plt.show()"
      ],
      "execution_count": null,
      "outputs": [
        {
          "output_type": "stream",
          "text": [
            "100%|██████████| 100/100 [00:00<00:00, 228.76it/s, loss=351.845]\n"
          ],
          "name": "stderr"
        },
        {
          "output_type": "stream",
          "text": [
            "\n",
            "Total time taken for 100 iterations is 0.44582128524780273 (s)\n"
          ],
          "name": "stdout"
        },
        {
          "output_type": "display_data",
          "data": {
            "image/png": "[encoded data removed]",
            "text/plain": [
              "<Figure size 432x288 with 1 Axes>"
            ]
          },
          "metadata": {
            "tags": [],
            "needs_background": "light"
          }
        }
      ]
    },
    {
      "cell_type": "code",
      "metadata": {
        "id": "Y4EIhiVhxUEz"
      },
      "source": [
        ""
      ],
      "execution_count": null,
      "outputs": []
    },
    {
      "cell_type": "code",
      "metadata": {
        "id": "Q7-JBJT-zmHo"
      },
      "source": [
        "'''\n",
        "Probabilistic connections + Graph alignment\n",
        "'''\n",
        "movie_user_probabilistic = movie_user_softmax\n",
        "random_matrix = np.random.uniform(low=0, high=1, size=movie_user_probabilistic.shape)\n",
        "connectivity_matrix_4 = ((random_matrix) < (k*movie_user_probabilistic)).astype(int)  "
      ],
      "execution_count": null,
      "outputs": []
    },
    {
      "cell_type": "code",
      "metadata": {
        "id": "xjmycLNpsEr6"
      },
      "source": [
        "# Forming a full N x N matrix from U x I matrix (full adjacency matrix)\n",
        "upper_left_matrix = np.zeros((n_users, n_users))\n",
        "upper_right_matrix = connectivity_matrix_4\n",
        "lower_left_matrix = np.transpose(connectivity_matrix_4)\n",
        "lower_right_matrix = np.zeros((n_movies, n_movies))\n",
        "upper_matrix = np.concatenate((upper_left_matrix, upper_right_matrix), axis=1)\n",
        "lower_matrix = np.concatenate((lower_left_matrix, lower_right_matrix), axis=1)\n",
        "adjacency_matrix_4 = np.concatenate((upper_matrix, lower_matrix), axis=0)\n",
        "predicted_graph_4 = nx.from_numpy_array(adjacency_matrix_4)"
      ],
      "execution_count": null,
      "outputs": []
    },
    {
      "cell_type": "code",
      "metadata": {
        "colab": {
          "base_uri": "https://localhost:8080/"
        },
        "id": "E8DH4LYWsp_y",
        "outputId": "cc806745-8bd2-4af1-a6a4-57252db254df"
      },
      "source": [
        "# Finding the laplacian of the two graphs\n",
        "sbm_g = find_laplacian(original_graph)\n",
        "sbm_g1 = find_laplacian(predicted_graph_4)"
      ],
      "execution_count": null,
      "outputs": [
        {
          "output_type": "stream",
          "text": [
            "Number of isolated nodes 0\n",
            "Length of graph 110\n",
            "\n",
            "Shape of L1 is(110, 110)\n",
            "\n",
            "Shape of L1 after densifying (110, 110)\n",
            "\n",
            "Length of laplacian is (110, 110)\n",
            "\n",
            "Number of isolated nodes 0\n",
            "Length of graph 110\n",
            "\n",
            "Shape of L1 is(110, 110)\n",
            "\n",
            "Shape of L1 after densifying (110, 110)\n",
            "\n",
            "Length of laplacian is (110, 110)\n",
            "\n"
          ],
          "name": "stdout"
        }
      ]
    },
    {
      "cell_type": "code",
      "metadata": {
        "colab": {
          "base_uri": "https://localhost:8080/",
          "height": 713
        },
        "id": "o1_0NGF1uUNh",
        "outputId": "55770157-69a7-4648-d820-a4ea8e5fbf22"
      },
      "source": [
        "# Aligning the two graphs\n",
        "start_time = time.time()\n",
        "sbm_G_inv, sbm_G1_inv, sbm_P = find_permutation(sbm_g, sbm_g1, it=10, tau=2, n_samples=k, epochs=graph_alignment_epochs, lr=0.5, \n",
        "                                               loss_type = 'w', alpha = 0.1, ones = True)\n",
        "\n",
        "permutation = []\n",
        "for i in range(sbm_P.shape[0]):\n",
        "    for j in range(sbm_P.shape[1]):\n",
        "        if sbm_P[i][j] == 1:\n",
        "            permutation.append(j)\n",
        "\n",
        "# Permuting the features assuming that movies and users are aligned among themselves and not across the two sets.\n",
        "permuted_indices = permutation[0:n_users]\n",
        "permuted_indices_shifted = [i%n_users for i in permuted_indices]\n",
        "user_features_p = user_features[permuted_indices_shifted, :]\n",
        "permuted_indices = permutation[n_users:n_users+n_movies]\n",
        "permuted_indices_shifted = [i%n_movies for i in permuted_indices]\n",
        "movie_features_p = movie_features[permuted_indices_shifted, :]\n",
        "\n",
        "device = torch.device(\"cuda:0\" if torch.cuda.is_available() else \"cpu\")\n",
        "connectivity_matrix = torch.FloatTensor(connectivity_matrix).to(device)\n",
        "non_zero_mask = (connectivity_matrix != -1)\n",
        "user_features_p = torch.FloatTensor(user_features_p).to(device)\n",
        "movie_features_p = torch.FloatTensor(movie_features_p).to(device)\n",
        "user_features_p.requires_grad = True\n",
        "movie_features_p.requires_grad = True\n",
        "# Performing gradient descent on the original feature space after permuting it according to graph alignments\n",
        "pmferror = PMFLoss(lam_u=0.05, lam_v=0.05)\n",
        "optimizer = torch.optim.Adam([user_features_p, movie_features_p], lr=0.01)\n",
        "\n",
        "bar = trange(num_epochs)\n",
        "losses = []\n",
        "for epoch in bar:\n",
        "    optimizer.zero_grad()\n",
        "    loss = pmferror(connectivity_matrix, user_features_p, movie_features_p, non_zero_mask)\n",
        "    loss.backward()\n",
        "    optimizer.step()\n",
        "    bar.set_postfix(loss=f'{loss:,.3f}')\n",
        "    losses.append(loss)\n",
        "end_time = time.time()\n",
        "print(\"\\nTotal time taken for\", num_epochs, \"iterations is\", end_time - start_time,\"(s)\")\n",
        "plt.plot(losses)\n",
        "plt.xlabel('Loss')\n",
        "plt.ylabel('Iterations')\n",
        "plt.title('Squared sum loss with probabilistic connections and graph alignment')\n",
        "plt.show()"
      ],
      "execution_count": null,
      "outputs": [
        {
          "output_type": "stream",
          "text": [
            "[Epoch    1/600] loss: 9.271986 - std: 9.880778\n",
            "[Epoch  100/600] loss: 6.780729 - std: 7.509479\n",
            "[Epoch  200/600] loss: 6.505794 - std: 7.175537\n",
            "[Epoch  300/600] loss: 6.223790 - std: 6.940368\n",
            "[Epoch  400/600] loss: 6.370979 - std: 6.703661\n",
            "[Epoch  500/600] loss: 6.644586 - std: 6.488757\n",
            "[Epoch  600/600] loss: 6.125837 - std: 6.289528\n"
          ],
          "name": "stdout"
        },
        {
          "output_type": "display_data",
          "data": {
            "image/png": "[encoded data removed]",
            "text/plain": [
              "<Figure size 432x288 with 1 Axes>"
            ]
          },
          "metadata": {
            "tags": [],
            "needs_background": "light"
          }
        },
        {
          "output_type": "stream",
          "text": [
            "100%|██████████| 100/100 [00:00<00:00, 264.36it/s, loss=102.607]\n"
          ],
          "name": "stderr"
        },
        {
          "output_type": "stream",
          "text": [
            "\n",
            "Total time taken for 100 iterations is 15.023605585098267 (s)\n"
          ],
          "name": "stdout"
        },
        {
          "output_type": "display_data",
          "data": {
            "image/png": "[encoded data removed]",
            "text/plain": [
              "<Figure size 432x288 with 1 Axes>"
            ]
          },
          "metadata": {
            "tags": [],
            "needs_background": "light"
          }
        }
      ]
    },
    {
      "cell_type": "code",
      "metadata": {
        "colab": {
          "base_uri": "https://localhost:8080/",
          "height": 1000
        },
        "id": "AcP0sbyI24AM",
        "outputId": "96f5b907-263e-4489-eace-dd57d76f68a9"
      },
      "source": [
        "'''\n",
        "Hard max with random init\n",
        "'''\n",
        "user_features_4 = np.random.normal(loc=0, scale=1, size=(n_users, latent_vectors))\n",
        "movie_features_4 = np.random.normal(loc=0, scale=1, size=(n_movies, latent_vectors))\n",
        "dot_prods = user_features_4 @ movie_features_4.T\n",
        "connectivity_matrix_4 = np.zeros((n_users, n_movies))\n",
        "for i in range(dot_prods.shape[0]):\n",
        "  top_k_movies = np.argsort(dot_prods[i, :]).tolist()[-k:]\n",
        "  for j in top_k_movies:\n",
        "    connectivity_matrix_4[i][j] = 1\n",
        "upper_left_matrix = np.zeros((n_users, n_users))\n",
        "upper_right_matrix = connectivity_matrix_4\n",
        "lower_left_matrix = np.transpose(connectivity_matrix_4)\n",
        "lower_right_matrix = np.zeros((n_movies, n_movies))\n",
        "upper_matrix = np.concatenate((upper_left_matrix, upper_right_matrix), axis=1)\n",
        "lower_matrix = np.concatenate((lower_left_matrix, lower_right_matrix), axis=1)\n",
        "adjacency_matrix_4 = np.concatenate((upper_matrix, lower_matrix), axis=0)\n",
        "predicted_graph_4 = nx.from_numpy_array(adjacency_matrix_4)\n",
        "start_time = time.time()\n",
        "sbm_original = find_laplacian(original_graph)\n",
        "sbm_predicted = find_laplacian(predicted_graph_4)\n",
        "# Aligning the two graphs\n",
        "start_time = time.time()\n",
        "sbm_G_inv, sbm_G1_inv, sbm_P = find_permutation(sbm_original, sbm_predicted, it=10, tau=2, n_samples=k, epochs=graph_alignment_epochs, lr=0.5, \n",
        "                                               loss_type = 'w', alpha = 0.1, ones = True)\n",
        "\n",
        "permutation = []\n",
        "for i in range(sbm_P.shape[0]):\n",
        "    for j in range(sbm_P.shape[1]):\n",
        "        if sbm_P[i][j] == 1:\n",
        "            permutation.append(j)\n",
        "\n",
        "# Permuting the features assuming that movies and users are aligned among themselves and not across the two sets.\n",
        "permuted_indices = permutation[0:n_users]\n",
        "permuted_indices_shifted = [i%n_users for i in permuted_indices]\n",
        "user_features_p = user_features_4[permuted_indices_shifted, :]\n",
        "permuted_indices = permutation[n_users:n_users+n_movies]\n",
        "permuted_indices_shifted = [i%n_movies for i in permuted_indices]\n",
        "movie_features_p = movie_features_4[permuted_indices_shifted, :]\n",
        "\n",
        "device = torch.device(\"cuda:0\" if torch.cuda.is_available() else \"cpu\")\n",
        "connectivity_matrix = torch.FloatTensor(connectivity_matrix).to(device)\n",
        "non_zero_mask = (connectivity_matrix != -1)\n",
        "user_features_p = torch.FloatTensor(user_features_p).to(device)\n",
        "movie_features_p = torch.FloatTensor(movie_features_p).to(device)\n",
        "user_features_p.requires_grad = True\n",
        "movie_features_p.requires_grad = True\n",
        "# Performing gradient descent on the original feature space after permuting it according to graph alignments\n",
        "pmferror = PMFLoss(lam_u=0.05, lam_v=0.05)\n",
        "optimizer = torch.optim.Adam([user_features_p, movie_features_p], lr=0.01)\n",
        "\n",
        "bar = trange(num_epochs)\n",
        "losses = []\n",
        "for epoch in bar:\n",
        "    optimizer.zero_grad()\n",
        "    loss = pmferror(connectivity_matrix, user_features_p, movie_features_p, non_zero_mask)\n",
        "    loss.backward()\n",
        "    optimizer.step()\n",
        "    bar.set_postfix(loss=f'{loss:,.3f}')\n",
        "    losses.append(loss)\n",
        "end_time = time.time()\n",
        "print(\"\\nTotal time taken for\", num_epochs, \"iterations is\", end_time - start_time,\"(s)\")\n",
        "plt.plot(losses)\n",
        "plt.xlabel('Loss')\n",
        "plt.ylabel('Iterations')\n",
        "plt.title('Squared sum loss with random init, top k connections, graph alignment')\n",
        "plt.show()"
      ],
      "execution_count": null,
      "outputs": [
        {
          "output_type": "stream",
          "text": [
            "Number of isolated nodes 0\n",
            "Length of graph 110\n",
            "\n",
            "Shape of L1 is(110, 110)\n",
            "\n",
            "Shape of L1 after densifying (110, 110)\n",
            "\n",
            "Length of laplacian is (110, 110)\n",
            "\n",
            "Number of isolated nodes 0\n",
            "Length of graph 110\n",
            "\n",
            "Shape of L1 is(110, 110)\n",
            "\n",
            "Shape of L1 after densifying (110, 110)\n",
            "\n",
            "Length of laplacian is (110, 110)\n",
            "\n",
            "[Epoch    1/600] loss: 10.528123 - std: 9.749083\n",
            "[Epoch  100/600] loss: 5.122251 - std: 5.816700\n",
            "[Epoch  200/600] loss: 5.403133 - std: 5.291328\n",
            "[Epoch  300/600] loss: 4.688044 - std: 4.921260\n",
            "[Epoch  400/600] loss: 4.227290 - std: 4.631542\n",
            "[Epoch  500/600] loss: 3.659485 - std: 4.411864\n",
            "[Epoch  600/600] loss: 4.049073 - std: 4.207647\n"
          ],
          "name": "stdout"
        },
        {
          "output_type": "display_data",
          "data": {
            "image/png": "[encoded data removed]",
            "text/plain": [
              "<Figure size 432x288 with 1 Axes>"
            ]
          },
          "metadata": {
            "tags": [],
            "needs_background": "light"
          }
        },
        {
          "output_type": "stream",
          "text": [
            "100%|██████████| 100/100 [00:00<00:00, 225.97it/s, loss=135.536]\n"
          ],
          "name": "stderr"
        },
        {
          "output_type": "stream",
          "text": [
            "\n",
            "Total time taken for 100 iterations is 15.770030736923218 (s)\n"
          ],
          "name": "stdout"
        },
        {
          "output_type": "display_data",
          "data": {
            "image/png": "[encoded data removed]",
            "text/plain": [
              "<Figure size 432x288 with 1 Axes>"
            ]
          },
          "metadata": {
            "tags": [],
            "needs_background": "light"
          }
        }
      ]
    },
    {
      "cell_type": "code",
      "metadata": {
        "colab": {
          "base_uri": "https://localhost:8080/",
          "height": 1000
        },
        "id": "MdQCz0-A5K3y",
        "outputId": "6cbcba04-46fc-463f-a582-dad545a3f0b5"
      },
      "source": [
        "'''\n",
        "Probabilistic with random init\n",
        "'''\n",
        "\n",
        "user_features_5 = np.random.normal(loc=0, scale=1, size=(n_users, latent_vectors))\n",
        "movie_features_5 = np.random.normal(loc=0, scale=1, size=(n_movies, latent_vectors))\n",
        "dot_prods = user_features_5 @ movie_features_5.T\n",
        "exp_matrix = np.exp(dot_prods)\n",
        "movie_user_softmax = exp_matrix/np.tile(np.reshape(np.sum(exp_matrix, axis=1), (n_users, 1)), (1, n_movies))\n",
        "connectivity_matrix_5 = (np.random.uniform(low=0, high=1, size=movie_user_softmax.shape) < k*movie_user_softmax).astype(int)\n",
        "upper_left_matrix = np.zeros((n_users, n_users))\n",
        "upper_right_matrix = connectivity_matrix_5\n",
        "lower_left_matrix = np.transpose(connectivity_matrix_5)\n",
        "lower_right_matrix = np.zeros((n_movies, n_movies))\n",
        "upper_matrix = np.concatenate((upper_left_matrix, upper_right_matrix), axis=1)\n",
        "lower_matrix = np.concatenate((lower_left_matrix, lower_right_matrix), axis=1)\n",
        "adjacency_matrix_5 = np.concatenate((upper_matrix, lower_matrix), axis=0)\n",
        "predicted_graph_5 = nx.from_numpy_array(adjacency_matrix_5)\n",
        "start_time = time.time()\n",
        "sbm_original = find_laplacian(original_graph)\n",
        "sbm_predicted = find_laplacian(predicted_graph_5)\n",
        "# Aligning the two graphs\n",
        "start_time = time.time()\n",
        "sbm_G_inv, sbm_G1_inv, sbm_P = find_permutation(sbm_original, sbm_predicted, it=10, tau=2, n_samples=k, epochs=graph_alignment_epochs, lr=0.5, \n",
        "                                               loss_type = 'w', alpha = 0.1, ones = True)\n",
        "\n",
        "permutation = []\n",
        "for i in range(sbm_P.shape[0]):\n",
        "    for j in range(sbm_P.shape[1]):\n",
        "        if sbm_P[i][j] == 1:\n",
        "            permutation.append(j)\n",
        "\n",
        "# Permuting the features assuming that movies and users are aligned among themselves and not across the two sets.\n",
        "permuted_indices = permutation[0:n_users]\n",
        "permuted_indices_shifted = [i%n_users for i in permuted_indices]\n",
        "user_features_p = user_features_5[permuted_indices_shifted, :]\n",
        "permuted_indices = permutation[n_users:n_users+n_movies]\n",
        "permuted_indices_shifted = [i%n_movies for i in permuted_indices]\n",
        "movie_features_p = movie_features_5[permuted_indices_shifted, :]\n",
        "\n",
        "device = torch.device(\"cuda:0\" if torch.cuda.is_available() else \"cpu\")\n",
        "#connectivity_matrix = torch.FloatTensor(connectivity_matrix).to(device)\n",
        "non_zero_mask = (connectivity_matrix != -1)\n",
        "user_features_p = torch.FloatTensor(user_features_p).to(device)\n",
        "movie_features_p = torch.FloatTensor(movie_features_p).to(device)\n",
        "user_features_p.requires_grad = True\n",
        "movie_features_p.requires_grad = True\n",
        "# Performing gradient descent on the original feature space after permuting it according to graph alignments\n",
        "pmferror = PMFLoss(lam_u=0.05, lam_v=0.05)\n",
        "optimizer = torch.optim.Adam([user_features_p, movie_features_p], lr=0.01)\n",
        "\n",
        "bar = trange(num_epochs)\n",
        "losses = []\n",
        "for epoch in bar:\n",
        "    optimizer.zero_grad()\n",
        "    loss = pmferror(connectivity_matrix, user_features_p, movie_features_p, non_zero_mask)\n",
        "    loss.backward()\n",
        "    optimizer.step()\n",
        "    bar.set_postfix(loss=f'{loss:,.3f}')\n",
        "    losses.append(loss)\n",
        "end_time = time.time()\n",
        "print(\"\\nTotal time taken for\", num_epochs, \"iterations is\", end_time - start_time,\"(s)\")\n",
        "plt.plot(losses)\n",
        "plt.xlabel('Loss')\n",
        "plt.ylabel('Iterations')\n",
        "plt.title('Squared sum loss with random init, probabilistic connections, graph alignment')\n",
        "plt.show()"
      ],
      "execution_count": null,
      "outputs": [
        {
          "output_type": "stream",
          "text": [
            "Number of isolated nodes 0\n",
            "Length of graph 110\n",
            "\n",
            "Shape of L1 is(110, 110)\n",
            "\n",
            "Shape of L1 after densifying (110, 110)\n",
            "\n",
            "Length of laplacian is (110, 110)\n",
            "\n",
            "Number of isolated nodes 0\n",
            "Length of graph 110\n",
            "\n",
            "Shape of L1 is(110, 110)\n",
            "\n",
            "Shape of L1 after densifying (110, 110)\n",
            "\n",
            "Length of laplacian is (110, 110)\n",
            "\n",
            "[Epoch    1/600] loss: 9.293588 - std: 9.904553\n",
            "[Epoch  100/600] loss: 7.217420 - std: 7.944288\n",
            "[Epoch  200/600] loss: 7.353312 - std: 7.665690\n",
            "[Epoch  300/600] loss: 7.093978 - std: 7.448008\n",
            "[Epoch  400/600] loss: 7.271831 - std: 7.217229\n",
            "[Epoch  500/600] loss: 7.364205 - std: 6.994678\n",
            "[Epoch  600/600] loss: 6.511068 - std: 6.788022\n"
          ],
          "name": "stdout"
        },
        {
          "output_type": "display_data",
          "data": {
            "image/png": "[encoded data removed]",
            "text/plain": [
              "<Figure size 432x288 with 1 Axes>"
            ]
          },
          "metadata": {
            "tags": [],
            "needs_background": "light"
          }
        },
        {
          "output_type": "stream",
          "text": [
            "100%|██████████| 100/100 [00:00<00:00, 219.48it/s, loss=144.697]\n"
          ],
          "name": "stderr"
        },
        {
          "output_type": "stream",
          "text": [
            "\n",
            "Total time taken for 100 iterations is 15.526498079299927 (s)\n"
          ],
          "name": "stdout"
        },
        {
          "output_type": "display_data",
          "data": {
            "image/png": "[encoded data removed]",
            "text/plain": [
              "<Figure size 432x288 with 1 Axes>"
            ]
          },
          "metadata": {
            "tags": [],
            "needs_background": "light"
          }
        }
      ]
    },
    {
      "cell_type": "code",
      "metadata": {
        "colab": {
          "base_uri": "https://localhost:8080/"
        },
        "id": "goVIRMkmfEkL",
        "outputId": "32bec76d-fa86-405a-b0ab-a6b2bf13606c"
      },
      "source": [
        "'''\n",
        "Using Boxes for embeddings \n",
        "'''\n",
        "random.seed(124)\n",
        "np.random.seed(124)\n",
        "torch.manual_seed(124)\n",
        "# Initiating the features randomly\n",
        "user_features = np.random.normal(loc=0, scale=1, size=(n_users, latent_vectors))\n",
        "movie_features = np.random.normal(loc=0, scale=1, size=(n_movies, latent_vectors))\n",
        "connectivity_matrix = np.zeros((n_users, n_movies))\n",
        "# forming edges to the k closest movies \n",
        "for i in range(n_users):\n",
        "  knn_indices = knnIndices(user_features[i], movie_features, k)\n",
        "  for idx in knn_indices:\n",
        "    connectivity_matrix[i, idx] = 1\n",
        "print(\"Shape of conncectivty_matirx is\", connectivity_matrix.shape)"
      ],
      "execution_count": null,
      "outputs": [
        {
          "output_type": "stream",
          "text": [
            "Shape of conncectivty_matirx is (100, 40)\n"
          ],
          "name": "stdout"
        }
      ]
    },
    {
      "cell_type": "markdown",
      "metadata": {
        "id": "m0neqFx1UHbt"
      },
      "source": [
        "# New Section"
      ]
    },
    {
      "cell_type": "code",
      "metadata": {
        "id": "qF0kZbxpfH7d",
        "colab": {
          "base_uri": "https://localhost:8080/"
        },
        "outputId": "16b97a89-3dc0-4d46-9324-1fe91e4f48a5"
      },
      "source": [
        "start_time = time.time()\n",
        "directed_edges = []\n",
        "B = nx.DiGraph()\n",
        "for i in range(connectivity_matrix.shape[0]):\n",
        "  for j in range(connectivity_matrix.shape[1]):\n",
        "    if connectivity_matrix[i][j] == 1:\n",
        "      directed_edges.append((i, j + n_users))\n",
        "B.add_nodes_from([i for i in range(n_users)], bipartite=0) # Add the node attribute \"bipartite\"\n",
        "B.add_nodes_from([i + n_users for i in range(n_movies)], bipartite=1)\n",
        "B.add_edges_from(directed_edges)\n",
        "\n",
        "for j in range(n_movies):\n",
        "  isConnected = False\n",
        "  for i in range(n_users):\n",
        "    if connectivity_matrix[i][j] == 1:\n",
        "      isConnected = True\n",
        "      break\n",
        "  if isConnected == False:\n",
        "    B.add_edge((0, n_users + j))\n",
        "\n",
        "total_order = [i for i in range(n_users + n_movies)]\n",
        "U = nx.Graph(B)\n",
        "boxes, boxicity = generate_intersection_box(U, average_degree=True)\n",
        "if boxes is None:\n",
        "    print('fail')\n",
        "else:\n",
        "    print('boxicity success!')\n",
        "    print(boxes.shape)\n",
        "\n",
        "cond_boxes, threshold, B_box, Cond_Prob_box, Cond_Prob = introduce_additional_dimension(B, boxes, total_order)\n",
        "end_time = time.time()"
      ],
      "execution_count": null,
      "outputs": [
        {
          "output_type": "stream",
          "text": [
            "using maximum degree as Delta\n",
            "N=140, Delta=28.571428571428573, dim=152\n",
            "difference(U_, U) [(105, 121), (105, 130), (120, 130), (121, 138), (127, 130)]\n",
            "difference(U, U_) []\n",
            "difference(U_, U) [(111, 123), (116, 122), (116, 136), (123, 136)]\n",
            "difference(U, U_) []\n",
            "difference(U_, U) [(107, 131)]\n",
            "difference(U, U_) []\n",
            "difference(U_, U) [(102, 130), (103, 130)]\n",
            "difference(U, U_) []\n",
            "difference(U_, U) [(107, 114)]\n",
            "difference(U, U_) []\n",
            "difference(U_, U) [(112, 120), (112, 123), (120, 123), (130, 139)]\n",
            "difference(U, U_) []\n",
            "difference(U_, U) [(114, 133), (123, 129), (123, 133)]\n",
            "difference(U, U_) []\n",
            "boxicity success!\n",
            "(140, 152, 2)\n"
          ],
          "name": "stdout"
        }
      ]
    },
    {
      "cell_type": "code",
      "metadata": {
        "colab": {
          "base_uri": "https://localhost:8080/"
        },
        "id": "slyIt8kHMaoS",
        "outputId": "023016b8-9e17-4e50-d97c-66d587ee5d81"
      },
      "source": [
        "end_time- start_time"
      ],
      "execution_count": null,
      "outputs": [
        {
          "output_type": "execute_result",
          "data": {
            "text/plain": [
              "68.43599462509155"
            ]
          },
          "metadata": {
            "tags": []
          },
          "execution_count": 12
        }
      ]
    },
    {
      "cell_type": "code",
      "metadata": {
        "id": "AhvhktQu1yjx"
      },
      "source": [
        "def mAP(Cond_Prob, connectivity_matrix, k):\n",
        "  total1 = 0\n",
        "  for i in range(n_users):\n",
        "    a = Cond_Prob[i]\n",
        "    a[i] = 0\n",
        "    b = np.argsort(-a)\n",
        "    total2 = 0\n",
        "    for j in range(1, k+1):\n",
        "      correct_preds = 0\n",
        "      for z in range(j):\n",
        "        if b[z] >= n_users and connectivity_matrix[i][b[z] - n_users] == 1:\n",
        "          correct_preds += 1\n",
        "      total2 += correct_preds/j\n",
        "    total2 /= k\n",
        "    total1 += total2\n",
        "  total1 /= n_users\n",
        "  return total1"
      ],
      "execution_count": null,
      "outputs": []
    },
    {
      "cell_type": "code",
      "metadata": {
        "colab": {
          "base_uri": "https://localhost:8080/"
        },
        "id": "9kN8kDz4-0H5",
        "outputId": "88ffac89-726e-4db5-f6b9-75ab74614103"
      },
      "source": [
        "print(mAP(Cond_Prob, connectivity_matrix, k))"
      ],
      "execution_count": null,
      "outputs": [
        {
          "output_type": "stream",
          "text": [
            "1.0\n"
          ],
          "name": "stdout"
        }
      ]
    },
    {
      "cell_type": "code",
      "metadata": {
        "colab": {
          "base_uri": "https://localhost:8080/"
        },
        "id": "zwgSuVsKMz4B",
        "outputId": "c871da59-d2f1-4347-a95f-8e780fd01fff"
      },
      "source": [
        "end_time - start_time"
      ],
      "execution_count": null,
      "outputs": [
        {
          "output_type": "execute_result",
          "data": {
            "text/plain": [
              "68.43599462509155"
            ]
          },
          "metadata": {
            "tags": []
          },
          "execution_count": 15
        }
      ]
    },
    {
      "cell_type": "code",
      "metadata": {
        "colab": {
          "base_uri": "https://localhost:8080/",
          "height": 726
        },
        "id": "G3ctYPJB0XIf",
        "outputId": "ace59fea-d271-4dce-e932-fa83d286d57f"
      },
      "source": [
        "print(\"Time taken for generating box embeddings: \" + str(end_time - start_time))\n",
        "# cond_boxes: generated boxes\n",
        "# threshold\n",
        "# D_box: graph generated by cond_boxes and threshold\n",
        "# Cond_prob_box: conditional probability matrix from cond_boxes P(row|column)\n",
        "# Cond_prob: conditional probability from step 1 (boxicity)\n",
        "print(B_box.edges())\n",
        "print(B.edges())\n",
        "print('box generated ? ', nx.is_isomorphic(B_box, B))\n",
        "#print('P=',Prob_box)\n",
        "print('threshold', threshold)\n",
        "\n",
        "l, r = nx.bipartite.sets(B)\n",
        "pos = {}\n",
        "\n",
        "# Update position for node from each group\n",
        "pos.update((node, (1, index)) for index, node in enumerate(l))\n",
        "pos.update((node, (2, index)) for index, node in enumerate(r))\n",
        "\n",
        "nx.draw(B, pos=pos, arrowsize=12, node_size=40,node_color='green')\n",
        "plt.show()\n",
        "\n",
        "nx.draw(B_box, pos=pos, arrowsize=12, node_size=40,node_color='green')\n",
        "plt.show()"
      ],
      "execution_count": null,
      "outputs": [
        {
          "output_type": "stream",
          "text": [
            "Time taken for generating box embeddings: 32.0322482585907\n",
            "[(0, 100), (0, 103), (0, 106), (0, 107), (0, 109), (1, 101), (1, 102), (1, 103), (1, 107), (1, 109), (2, 101), (2, 103), (2, 107), (2, 108), (2, 109), (3, 100), (3, 102), (3, 103), (3, 108), (3, 109), (4, 100), (4, 103), (4, 106), (4, 107), (4, 108), (5, 100), (5, 101), (5, 103), (5, 106), (5, 108), (6, 100), (6, 102), (6, 103), (6, 106), (6, 109), (7, 100), (7, 102), (7, 103), (7, 107), (7, 109), (8, 100), (8, 102), (8, 103), (8, 105), (8, 109), (9, 100), (9, 103), (9, 106), (9, 107), (9, 108), (10, 101), (10, 102), (10, 103), (10, 105), (10, 108), (11, 102), (11, 103), (11, 105), (11, 107), (11, 108), (12, 100), (12, 103), (12, 107), (12, 108), (12, 109), (13, 100), (13, 104), (13, 106), (13, 108), (13, 109), (14, 100), (14, 101), (14, 103), (14, 106), (14, 107), (15, 100), (15, 101), (15, 103), (15, 104), (15, 108), (16, 100), (16, 101), (16, 103), (16, 108), (16, 109), (17, 100), (17, 101), (17, 103), (17, 107), (17, 109), (18, 100), (18, 102), (18, 106), (18, 108), (18, 109), (19, 101), (19, 102), (19, 103), (19, 108), (19, 109), (20, 100), (20, 101), (20, 106), (20, 107), (20, 109), (21, 100), (21, 101), (21, 102), (21, 103), (21, 107), (22, 100), (22, 101), (22, 102), (22, 103), (22, 108), (23, 101), (23, 103), (23, 107), (23, 108), (23, 109), (24, 100), (24, 102), (24, 103), (24, 107), (24, 108), (25, 100), (25, 101), (25, 102), (25, 103), (25, 108), (26, 100), (26, 101), (26, 103), (26, 108), (26, 109), (27, 100), (27, 102), (27, 103), (27, 107), (27, 108), (28, 100), (28, 103), (28, 107), (28, 108), (28, 109), (29, 100), (29, 101), (29, 103), (29, 107), (29, 109), (30, 100), (30, 101), (30, 102), (30, 103), (30, 108), (31, 100), (31, 102), (31, 103), (31, 107), (31, 109), (32, 100), (32, 101), (32, 102), (32, 103), (32, 108), (33, 100), (33, 102), (33, 103), (33, 106), (33, 107), (34, 102), (34, 103), (34, 107), (34, 108), (34, 109), (35, 100), (35, 101), (35, 103), (35, 107), (35, 108), (36, 100), (36, 103), (36, 106), (36, 108), (36, 109), (37, 100), (37, 101), (37, 102), (37, 106), (37, 108), (38, 100), (38, 101), (38, 103), (38, 108), (38, 109), (39, 100), (39, 101), (39, 103), (39, 108), (39, 109), (40, 100), (40, 103), (40, 106), (40, 107), (40, 108), (41, 101), (41, 102), (41, 103), (41, 105), (41, 108), (42, 100), (42, 101), (42, 102), (42, 103), (42, 107), (43, 100), (43, 102), (43, 103), (43, 107), (43, 109), (44, 102), (44, 103), (44, 105), (44, 108), (44, 109), (45, 100), (45, 103), (45, 107), (45, 108), (45, 109), (46, 101), (46, 102), (46, 103), (46, 107), (46, 109), (47, 100), (47, 101), (47, 103), (47, 108), (47, 109), (48, 102), (48, 103), (48, 107), (48, 108), (48, 109), (49, 102), (49, 103), (49, 107), (49, 108), (49, 109), (50, 102), (50, 103), (50, 107), (50, 108), (50, 109), (51, 100), (51, 101), (51, 102), (51, 103), (51, 107), (52, 100), (52, 102), (52, 103), (52, 108), (52, 109), (53, 101), (53, 103), (53, 105), (53, 107), (53, 109), (54, 100), (54, 103), (54, 107), (54, 108), (54, 109), (55, 100), (55, 102), (55, 103), (55, 106), (55, 108), (56, 102), (56, 103), (56, 107), (56, 108), (56, 109), (57, 100), (57, 101), (57, 103), (57, 106), (57, 109), (58, 100), (58, 103), (58, 105), (58, 108), (58, 109), (59, 100), (59, 102), (59, 103), (59, 105), (59, 108), (60, 100), (60, 103), (60, 106), (60, 108), (60, 109), (61, 100), (61, 103), (61, 107), (61, 108), (61, 109), (62, 102), (62, 103), (62, 106), (62, 107), (62, 109), (63, 100), (63, 103), (63, 107), (63, 108), (63, 109), (64, 100), (64, 103), (64, 107), (64, 108), (64, 109), (65, 100), (65, 103), (65, 104), (65, 108), (65, 109), (66, 100), (66, 101), (66, 102), (66, 103), (66, 109), (67, 100), (67, 102), (67, 103), (67, 108), (67, 109), (68, 100), (68, 101), (68, 103), (68, 107), (68, 109), (69, 100), (69, 102), (69, 103), (69, 107), (69, 109), (70, 100), (70, 101), (70, 103), (70, 107), (70, 109), (71, 101), (71, 103), (71, 106), (71, 107), (71, 108), (72, 100), (72, 103), (72, 107), (72, 108), (72, 109), (73, 103), (73, 104), (73, 105), (73, 108), (73, 109), (74, 100), (74, 102), (74, 103), (74, 104), (74, 108), (75, 102), (75, 103), (75, 105), (75, 107), (75, 109), (76, 100), (76, 101), (76, 103), (76, 107), (76, 109), (77, 100), (77, 103), (77, 104), (77, 107), (77, 109), (78, 100), (78, 101), (78, 103), (78, 105), (78, 108), (79, 100), (79, 103), (79, 106), (79, 108), (79, 109), (80, 100), (80, 103), (80, 107), (80, 108), (80, 109), (81, 100), (81, 101), (81, 102), (81, 103), (81, 109), (82, 100), (82, 102), (82, 103), (82, 107), (82, 109), (83, 100), (83, 102), (83, 103), (83, 108), (83, 109), (84, 100), (84, 101), (84, 103), (84, 107), (84, 108), (85, 101), (85, 102), (85, 103), (85, 108), (85, 109), (86, 100), (86, 101), (86, 103), (86, 106), (86, 109), (87, 100), (87, 102), (87, 103), (87, 108), (87, 109), (88, 101), (88, 102), (88, 103), (88, 107), (88, 108), (89, 100), (89, 101), (89, 102), (89, 103), (89, 107), (90, 100), (90, 102), (90, 103), (90, 108), (90, 109), (91, 100), (91, 101), (91, 103), (91, 107), (91, 109), (92, 101), (92, 102), (92, 106), (92, 107), (92, 109), (93, 100), (93, 102), (93, 103), (93, 108), (93, 109), (94, 100), (94, 102), (94, 103), (94, 107), (94, 109), (95, 100), (95, 103), (95, 106), (95, 108), (95, 109), (96, 102), (96, 103), (96, 105), (96, 107), (96, 108), (97, 100), (97, 101), (97, 103), (97, 106), (97, 109), (98, 100), (98, 102), (98, 103), (98, 106), (98, 109), (99, 101), (99, 103), (99, 104), (99, 107), (99, 108)]\n",
            "[(0, 100), (0, 103), (0, 106), (0, 107), (0, 109), (1, 101), (1, 102), (1, 103), (1, 107), (1, 109), (2, 101), (2, 103), (2, 107), (2, 108), (2, 109), (3, 100), (3, 102), (3, 103), (3, 108), (3, 109), (4, 100), (4, 103), (4, 106), (4, 107), (4, 108), (5, 100), (5, 101), (5, 103), (5, 106), (5, 108), (6, 100), (6, 102), (6, 103), (6, 106), (6, 109), (7, 100), (7, 102), (7, 103), (7, 107), (7, 109), (8, 100), (8, 102), (8, 103), (8, 105), (8, 109), (9, 100), (9, 103), (9, 106), (9, 107), (9, 108), (10, 101), (10, 102), (10, 103), (10, 105), (10, 108), (11, 102), (11, 103), (11, 105), (11, 107), (11, 108), (12, 100), (12, 103), (12, 107), (12, 108), (12, 109), (13, 100), (13, 104), (13, 106), (13, 108), (13, 109), (14, 100), (14, 101), (14, 103), (14, 106), (14, 107), (15, 100), (15, 101), (15, 103), (15, 104), (15, 108), (16, 100), (16, 101), (16, 103), (16, 108), (16, 109), (17, 100), (17, 101), (17, 103), (17, 107), (17, 109), (18, 100), (18, 102), (18, 106), (18, 108), (18, 109), (19, 101), (19, 102), (19, 103), (19, 108), (19, 109), (20, 100), (20, 101), (20, 106), (20, 107), (20, 109), (21, 100), (21, 101), (21, 102), (21, 103), (21, 107), (22, 100), (22, 101), (22, 102), (22, 103), (22, 108), (23, 101), (23, 103), (23, 107), (23, 108), (23, 109), (24, 100), (24, 102), (24, 103), (24, 107), (24, 108), (25, 100), (25, 101), (25, 102), (25, 103), (25, 108), (26, 100), (26, 101), (26, 103), (26, 108), (26, 109), (27, 100), (27, 102), (27, 103), (27, 107), (27, 108), (28, 100), (28, 103), (28, 107), (28, 108), (28, 109), (29, 100), (29, 101), (29, 103), (29, 107), (29, 109), (30, 100), (30, 101), (30, 102), (30, 103), (30, 108), (31, 100), (31, 102), (31, 103), (31, 107), (31, 109), (32, 100), (32, 101), (32, 102), (32, 103), (32, 108), (33, 100), (33, 102), (33, 103), (33, 106), (33, 107), (34, 102), (34, 103), (34, 107), (34, 108), (34, 109), (35, 100), (35, 101), (35, 103), (35, 107), (35, 108), (36, 100), (36, 103), (36, 106), (36, 108), (36, 109), (37, 100), (37, 101), (37, 102), (37, 106), (37, 108), (38, 100), (38, 101), (38, 103), (38, 108), (38, 109), (39, 100), (39, 101), (39, 103), (39, 108), (39, 109), (40, 100), (40, 103), (40, 106), (40, 107), (40, 108), (41, 101), (41, 102), (41, 103), (41, 105), (41, 108), (42, 100), (42, 101), (42, 102), (42, 103), (42, 107), (43, 100), (43, 102), (43, 103), (43, 107), (43, 109), (44, 102), (44, 103), (44, 105), (44, 108), (44, 109), (45, 100), (45, 103), (45, 107), (45, 108), (45, 109), (46, 101), (46, 102), (46, 103), (46, 107), (46, 109), (47, 100), (47, 101), (47, 103), (47, 108), (47, 109), (48, 102), (48, 103), (48, 107), (48, 108), (48, 109), (49, 102), (49, 103), (49, 107), (49, 108), (49, 109), (50, 102), (50, 103), (50, 107), (50, 108), (50, 109), (51, 100), (51, 101), (51, 102), (51, 103), (51, 107), (52, 100), (52, 102), (52, 103), (52, 108), (52, 109), (53, 101), (53, 103), (53, 105), (53, 107), (53, 109), (54, 100), (54, 103), (54, 107), (54, 108), (54, 109), (55, 100), (55, 102), (55, 103), (55, 106), (55, 108), (56, 102), (56, 103), (56, 107), (56, 108), (56, 109), (57, 100), (57, 101), (57, 103), (57, 106), (57, 109), (58, 100), (58, 103), (58, 105), (58, 108), (58, 109), (59, 100), (59, 102), (59, 103), (59, 105), (59, 108), (60, 100), (60, 103), (60, 106), (60, 108), (60, 109), (61, 100), (61, 103), (61, 107), (61, 108), (61, 109), (62, 102), (62, 103), (62, 106), (62, 107), (62, 109), (63, 100), (63, 103), (63, 107), (63, 108), (63, 109), (64, 100), (64, 103), (64, 107), (64, 108), (64, 109), (65, 100), (65, 103), (65, 104), (65, 108), (65, 109), (66, 100), (66, 101), (66, 102), (66, 103), (66, 109), (67, 100), (67, 102), (67, 103), (67, 108), (67, 109), (68, 100), (68, 101), (68, 103), (68, 107), (68, 109), (69, 100), (69, 102), (69, 103), (69, 107), (69, 109), (70, 100), (70, 101), (70, 103), (70, 107), (70, 109), (71, 101), (71, 103), (71, 106), (71, 107), (71, 108), (72, 100), (72, 103), (72, 107), (72, 108), (72, 109), (73, 103), (73, 104), (73, 105), (73, 108), (73, 109), (74, 100), (74, 102), (74, 103), (74, 104), (74, 108), (75, 102), (75, 103), (75, 105), (75, 107), (75, 109), (76, 100), (76, 101), (76, 103), (76, 107), (76, 109), (77, 100), (77, 103), (77, 104), (77, 107), (77, 109), (78, 100), (78, 101), (78, 103), (78, 105), (78, 108), (79, 100), (79, 103), (79, 106), (79, 108), (79, 109), (80, 100), (80, 103), (80, 107), (80, 108), (80, 109), (81, 100), (81, 101), (81, 102), (81, 103), (81, 109), (82, 100), (82, 102), (82, 103), (82, 107), (82, 109), (83, 100), (83, 102), (83, 103), (83, 108), (83, 109), (84, 100), (84, 101), (84, 103), (84, 107), (84, 108), (85, 101), (85, 102), (85, 103), (85, 108), (85, 109), (86, 100), (86, 101), (86, 103), (86, 106), (86, 109), (87, 100), (87, 102), (87, 103), (87, 108), (87, 109), (88, 101), (88, 102), (88, 103), (88, 107), (88, 108), (89, 100), (89, 101), (89, 102), (89, 103), (89, 107), (90, 100), (90, 102), (90, 103), (90, 108), (90, 109), (91, 100), (91, 101), (91, 103), (91, 107), (91, 109), (92, 101), (92, 102), (92, 106), (92, 107), (92, 109), (93, 100), (93, 102), (93, 103), (93, 108), (93, 109), (94, 100), (94, 102), (94, 103), (94, 107), (94, 109), (95, 100), (95, 103), (95, 106), (95, 108), (95, 109), (96, 102), (96, 103), (96, 105), (96, 107), (96, 108), (97, 100), (97, 101), (97, 103), (97, 106), (97, 109), (98, 100), (98, 102), (98, 103), (98, 106), (98, 109), (99, 101), (99, 103), (99, 104), (99, 107), (99, 108)]\n",
            "box generated ?  True\n",
            "threshold 2.1230021859211897e-53\n"
          ],
          "name": "stdout"
        },
        {
          "output_type": "display_data",
          "data": {
            "image/png": "[encoded data removed]",
            "text/plain": [
              "<Figure size 432x288 with 1 Axes>"
            ]
          },
          "metadata": {
            "tags": []
          }
        },
        {
          "output_type": "display_data",
          "data": {
            "image/png": "[encoded data removed]",
            "text/plain": [
              "<Figure size 432x288 with 1 Axes>"
            ]
          },
          "metadata": {
            "tags": []
          }
        }
      ]
    }
  ]
}